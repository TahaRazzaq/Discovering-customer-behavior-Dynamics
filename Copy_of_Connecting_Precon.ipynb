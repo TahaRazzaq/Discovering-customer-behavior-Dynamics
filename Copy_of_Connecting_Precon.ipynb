{
  "nbformat": 4,
  "nbformat_minor": 0,
  "metadata": {
    "colab": {
      "name": "Copy of Connecting_Precon.ipynb",
      "provenance": [],
      "collapsed_sections": [
        "nIqIwWNHXwki",
        "fu7zulEpLGeh"
      ],
      "toc_visible": true,
      "include_colab_link": true
    },
    "kernelspec": {
      "name": "python3",
      "display_name": "Python 3"
    }
  },
  "cells": [
    {
      "cell_type": "markdown",
      "metadata": {
        "id": "view-in-github",
        "colab_type": "text"
      },
      "source": [
        "<a href=\"https://colab.research.google.com/github/TahaRazzaq/Discovering-customer-behavior-Dynamics/blob/CFSFDP-Algorithm/Copy_of_Connecting_Precon.ipynb\" target=\"_parent\"><img src=\"https://colab.research.google.com/assets/colab-badge.svg\" alt=\"Open In Colab\"/></a>"
      ]
    },
    {
      "cell_type": "markdown",
      "metadata": {
        "id": "uFgOnBiHX0u8"
      },
      "source": [
        "#Precon Dataset\r\n",
        "<div align=\"justify\">\r\n",
        "PRECON dataset is the first attempt to collect extensive residential energy consumption information from South Asia in particular Pakistan, and hence is being used in understanding important facts about the energy market.\r\n",
        "\r\n",
        "The dataset contains information about **42 distinct households** with their energy consumption being recorded at **minutes granularity**. On average, each household has **52,5600 data values** which encapsulate the **data collected over a year**. The data of each household varies significantly due to the different heavy energy consuming loads (like ACs), however the date/time and usage column is same over the entire dataset, hence they are used for major computations. \r\n",
        "\r\n",
        "## Basic Exploratory Data Analysis\r\n",
        "<div align=\"justify\">\r\n",
        "The basic EDA involved locating and replacing null values. The initial search showed that only the usage column had null values, which were replaced using the forward fill mechanism. Using the forward fill seems logical since, the possible reason for null values can be load shedding and hence assuming that similar load will maintained for the next few minutes is reasonable. \r\n",
        " \r\n",
        "#Trends in the Data:\r\n",
        "<div align=\"justify\">\r\n",
        "In order to understand the trend of the energy consumption, the data is grouped with respect to the months and the line graph shows the trend. \r\n",
        "\r\n",
        "![link text](https://drive.google.com/uc?id=1LD_w4Hh9KClGXQZgjeBnyjvpcu_KY5An)\r\n",
        " \r\n",
        "<div align=\"justify\">\r\n",
        "The trend makes sense intuitively as well since the energy consumption increases in the hotter months with the air conditioners and other appliances being used frequently. As compared to these months, the relatively cooler time of the year has a considerable lower energy consumption. This graph is in full correspondence with the graph depicting the average usage of the consumers with respect to the seasons. \r\n",
        " \r\n",
        "![link text](https://drive.google.com/uc?id=1kFHqoTfmcG1rOZTRll9zH_RSyJnFXAvL)\r\n",
        "\r\n",
        "<div align=\"justify\">\r\n",
        "Moreover, these trends are not only true for the average consumption of all the users but they also occur at the individual level. Each consumer shows similar energy consumption behavior.\r\n",
        " \r\n",
        "![link text](https://drive.google.com/uc?id=1SWHyf9SvSZIB9vn26QOzjYegfcQqz21b)\r\n",
        " \r\n",
        "<div align=\"justify\">\r\n",
        "In order to encapsulate the overall statistics about the usage of the consumers, we use boxplot. The boxplot very closely captures the spread along with the other statistics of the feature.\r\n",
        " \r\n",
        "![link text](https://drive.google.com/uc?id=1JJjP1kwUqATxvbAp9GaRPERDBQ4mSfjw)\r\n",
        " \r\n",
        "<div align=\"justify\">\r\n",
        "The next section of the notebook is divided in 2 sections - file reading and cleaning, Graphs - each containing the code and implementation of the respective part. \r\n",
        "\r\n",
        " </div>\r\n",
        " \r\n",
        " \r\n",
        "\r\n"
      ]
    },
    {
      "cell_type": "markdown",
      "metadata": {
        "id": "nIqIwWNHXwki"
      },
      "source": [
        "# Code"
      ]
    },
    {
      "cell_type": "code",
      "metadata": {
        "id": "5EFMYLUFKSKu"
      },
      "source": [
        "import pandas as pd\n",
        "import numpy as np\n",
        "import datetime\n",
        "from datetime import date\n",
        "from datetime import datetime\n",
        "from datetime import timedelta\n",
        "import sys\n",
        "import matplotlib.pyplot as plt\n",
        "import plotly.graph_objs as go\n",
        "import plotly.express as px\n",
        "from IPython.display import clear_output\n",
        "from scipy.special import rel_entr\n",
        "import matplotlib.cm as cm\n",
        "import glob"
      ],
      "execution_count": null,
      "outputs": []
    },
    {
      "cell_type": "code",
      "metadata": {
        "colab": {
          "base_uri": "https://localhost:8080/"
        },
        "id": "1ARLUuz16MAp",
        "outputId": "2314a9e8-2d55-4e4b-ee2d-46b74924eaef"
      },
      "source": [
        "from google.colab import drive\n",
        "drive.mount('/content/drive')"
      ],
      "execution_count": null,
      "outputs": [
        {
          "output_type": "stream",
          "text": [
            "Mounted at /content/drive\n"
          ],
          "name": "stdout"
        }
      ]
    },
    {
      "cell_type": "code",
      "metadata": {
        "id": "NioE2p8xIbl3",
        "colab": {
          "base_uri": "https://localhost:8080/",
          "height": 204
        },
        "outputId": "605d0564-4e27-44b0-a031-d8f661d4c209"
      },
      "source": [
        "# hlist = ['ID','Datetime','Energy']\n",
        "df = pd.read_csv(\"/content/drive/MyDrive/Summer Work and SPROJ/Precon/PRECON(Unzipped Files)/House41.csv\",sep=\",\")\n",
        "df['Date_Time'] = df['Date_Time'].apply(pd.Timestamp)\n",
        "df.head()"
      ],
      "execution_count": null,
      "outputs": [
        {
          "output_type": "execute_result",
          "data": {
            "text/html": [
              "<div>\n",
              "<style scoped>\n",
              "    .dataframe tbody tr th:only-of-type {\n",
              "        vertical-align: middle;\n",
              "    }\n",
              "\n",
              "    .dataframe tbody tr th {\n",
              "        vertical-align: top;\n",
              "    }\n",
              "\n",
              "    .dataframe thead th {\n",
              "        text-align: right;\n",
              "    }\n",
              "</style>\n",
              "<table border=\"1\" class=\"dataframe\">\n",
              "  <thead>\n",
              "    <tr style=\"text-align: right;\">\n",
              "      <th></th>\n",
              "      <th>Date_Time</th>\n",
              "      <th>Usage_kW</th>\n",
              "    </tr>\n",
              "  </thead>\n",
              "  <tbody>\n",
              "    <tr>\n",
              "      <th>0</th>\n",
              "      <td>2018-06-01 00:00:00</td>\n",
              "      <td>0.7781</td>\n",
              "    </tr>\n",
              "    <tr>\n",
              "      <th>1</th>\n",
              "      <td>2018-06-01 00:01:00</td>\n",
              "      <td>0.7809</td>\n",
              "    </tr>\n",
              "    <tr>\n",
              "      <th>2</th>\n",
              "      <td>2018-06-01 00:02:00</td>\n",
              "      <td>0.7718</td>\n",
              "    </tr>\n",
              "    <tr>\n",
              "      <th>3</th>\n",
              "      <td>2018-06-01 00:03:00</td>\n",
              "      <td>0.7647</td>\n",
              "    </tr>\n",
              "    <tr>\n",
              "      <th>4</th>\n",
              "      <td>2018-06-01 00:04:00</td>\n",
              "      <td>0.7638</td>\n",
              "    </tr>\n",
              "  </tbody>\n",
              "</table>\n",
              "</div>"
            ],
            "text/plain": [
              "            Date_Time  Usage_kW\n",
              "0 2018-06-01 00:00:00    0.7781\n",
              "1 2018-06-01 00:01:00    0.7809\n",
              "2 2018-06-01 00:02:00    0.7718\n",
              "3 2018-06-01 00:03:00    0.7647\n",
              "4 2018-06-01 00:04:00    0.7638"
            ]
          },
          "metadata": {
            "tags": []
          },
          "execution_count": 31
        }
      ]
    },
    {
      "cell_type": "code",
      "metadata": {
        "id": "wpKRjc5xKQza",
        "colab": {
          "base_uri": "https://localhost:8080/"
        },
        "outputId": "59e7fed4-5ae1-4477-f852-a3ef7e8ce785"
      },
      "source": [
        "!gdown --id 1QkWEUzzjZPsoykBRhiFb6RWlo3s-Hea4\r\n",
        "!unzip -q \"PRECON.zip\" -d \"\""
      ],
      "execution_count": null,
      "outputs": [
        {
          "output_type": "stream",
          "text": [
            "Downloading...\n",
            "From: https://drive.google.com/uc?id=1QkWEUzzjZPsoykBRhiFb6RWlo3s-Hea4\n",
            "To: /content/PRECON.zip\n",
            "187MB [00:05, 32.1MB/s]\n"
          ],
          "name": "stdout"
        }
      ]
    },
    {
      "cell_type": "markdown",
      "metadata": {
        "id": "fu7zulEpLGeh"
      },
      "source": [
        "## Dask implementation"
      ]
    },
    {
      "cell_type": "code",
      "metadata": {
        "id": "CmAsdCQjLF7W"
      },
      "source": [
        ""
      ],
      "execution_count": null,
      "outputs": []
    },
    {
      "cell_type": "code",
      "metadata": {
        "id": "XIvt_3YZdbb0"
      },
      "source": [
        "# conda install dask                     # either conda install\r\n",
        "!python -m pip install dask[dataframe]"
      ],
      "execution_count": null,
      "outputs": []
    },
    {
      "cell_type": "code",
      "metadata": {
        "id": "vU-EqsWpdQX8"
      },
      "source": [
        "import dask.dataframe as dd\r\n",
        "df = dd.read_csv(r'/content/drive/MyDrive/Colab Notebooks/Precon_combined.csv')\r\n"
      ],
      "execution_count": null,
      "outputs": []
    },
    {
      "cell_type": "code",
      "metadata": {
        "id": "5YGK2HIWeZjN"
      },
      "source": [
        "df.ID.compute()"
      ],
      "execution_count": null,
      "outputs": []
    },
    {
      "cell_type": "code",
      "metadata": {
        "id": "yTX70z7ogol0"
      },
      "source": [
        "df[df['ID']=='House19'].compute()"
      ],
      "execution_count": null,
      "outputs": []
    },
    {
      "cell_type": "code",
      "metadata": {
        "id": "-WaAngHLlU__"
      },
      "source": [
        "d_id = df['ID'].compute()"
      ],
      "execution_count": null,
      "outputs": []
    },
    {
      "cell_type": "code",
      "metadata": {
        "id": "bVRSsoUMnBfx"
      },
      "source": [
        "d_id.sort_values()"
      ],
      "execution_count": null,
      "outputs": []
    },
    {
      "cell_type": "code",
      "metadata": {
        "id": "HSI6ArPidxkv"
      },
      "source": [
        "df = df.compute()"
      ],
      "execution_count": null,
      "outputs": []
    },
    {
      "cell_type": "code",
      "metadata": {
        "id": "HDokVdBNd3HS"
      },
      "source": [
        "df.shape"
      ],
      "execution_count": null,
      "outputs": []
    },
    {
      "cell_type": "markdown",
      "metadata": {
        "id": "k7FfAMM1LLgy"
      },
      "source": [
        "## File Reading and cleaning"
      ]
    },
    {
      "cell_type": "code",
      "metadata": {
        "id": "rnCC7QHT5x-k"
      },
      "source": [
        "path = r'/content' # use your path\r\n",
        "all_files = glob.glob(path + \"/*.csv\")\r\n",
        "li = []\r\n",
        "for filename in all_files:\r\n",
        "\r\n",
        "    df = pd.read_csv(filename,sep=\",\", usecols = ['Date_Time','Usage_kW'])\r\n",
        "    df['ID'] = filename.split('/')[-1][:-4]\r\n",
        "\r\n",
        "    li.append(df)\r\n",
        "    # print(filename,li)\r\n",
        "    # break\r\n",
        "\r\n",
        "frame = pd.concat(li, axis=0, ignore_index=True)"
      ],
      "execution_count": null,
      "outputs": []
    },
    {
      "cell_type": "code",
      "metadata": {
        "id": "nf2-UwYSKNXU"
      },
      "source": [
        "# frame.to_csv(r'/content/drive/MyDrive/Colab Notebooks/Precon_shortened.csv')\r\n",
        "# # Copy of Connecting_Precon.ipynb"
      ],
      "execution_count": null,
      "outputs": []
    },
    {
      "cell_type": "code",
      "metadata": {
        "colab": {
          "base_uri": "https://localhost:8080/",
          "height": 204
        },
        "id": "ngu4WHGX1Jjp",
        "outputId": "746311fb-052d-4c6f-9d9d-b135714914d9"
      },
      "source": [
        "frame.head()"
      ],
      "execution_count": null,
      "outputs": [
        {
          "output_type": "execute_result",
          "data": {
            "text/html": [
              "<div>\n",
              "<style scoped>\n",
              "    .dataframe tbody tr th:only-of-type {\n",
              "        vertical-align: middle;\n",
              "    }\n",
              "\n",
              "    .dataframe tbody tr th {\n",
              "        vertical-align: top;\n",
              "    }\n",
              "\n",
              "    .dataframe thead th {\n",
              "        text-align: right;\n",
              "    }\n",
              "</style>\n",
              "<table border=\"1\" class=\"dataframe\">\n",
              "  <thead>\n",
              "    <tr style=\"text-align: right;\">\n",
              "      <th></th>\n",
              "      <th>Date_Time</th>\n",
              "      <th>Usage_kW</th>\n",
              "      <th>ID</th>\n",
              "    </tr>\n",
              "  </thead>\n",
              "  <tbody>\n",
              "    <tr>\n",
              "      <th>0</th>\n",
              "      <td>2018-06-01 00:00:00</td>\n",
              "      <td>3.6729</td>\n",
              "      <td>House31</td>\n",
              "    </tr>\n",
              "    <tr>\n",
              "      <th>1</th>\n",
              "      <td>2018-06-01 00:01:00</td>\n",
              "      <td>3.6762</td>\n",
              "      <td>House31</td>\n",
              "    </tr>\n",
              "    <tr>\n",
              "      <th>2</th>\n",
              "      <td>2018-06-01 00:02:00</td>\n",
              "      <td>3.6814</td>\n",
              "      <td>House31</td>\n",
              "    </tr>\n",
              "    <tr>\n",
              "      <th>3</th>\n",
              "      <td>2018-06-01 00:03:00</td>\n",
              "      <td>3.6780</td>\n",
              "      <td>House31</td>\n",
              "    </tr>\n",
              "    <tr>\n",
              "      <th>4</th>\n",
              "      <td>2018-06-01 00:04:00</td>\n",
              "      <td>3.6530</td>\n",
              "      <td>House31</td>\n",
              "    </tr>\n",
              "  </tbody>\n",
              "</table>\n",
              "</div>"
            ],
            "text/plain": [
              "             Date_Time  Usage_kW       ID\n",
              "0  2018-06-01 00:00:00    3.6729  House31\n",
              "1  2018-06-01 00:01:00    3.6762  House31\n",
              "2  2018-06-01 00:02:00    3.6814  House31\n",
              "3  2018-06-01 00:03:00    3.6780  House31\n",
              "4  2018-06-01 00:04:00    3.6530  House31"
            ]
          },
          "metadata": {
            "tags": []
          },
          "execution_count": 4
        }
      ]
    },
    {
      "cell_type": "code",
      "metadata": {
        "colab": {
          "base_uri": "https://localhost:8080/",
          "height": 595
        },
        "id": "fRi3RS9D04Jt",
        "outputId": "e9e4c4ac-1f43-43bf-8192-0d5942ed8f45"
      },
      "source": [
        "frame['IDs'] = frame['ID'].apply(lambda x:x[-1]  if len(x) == 6 else x[-2:])\r\n",
        "frame['IDs'] = frame['IDs'].astype(int)\r\n",
        "\r\n",
        "\r\n",
        "df = frame[['IDs','Date_Time','Usage_kW']]\r\n",
        "df['Date_Time'] = df['Date_Time'].apply(pd.Timestamp)\r\n",
        "\r\n",
        "\r\n",
        "null_columns = df.columns[df.isnull().any()]    # Finding columns which contain null values\r\n",
        "df[null_columns].isnull().sum()\r\n",
        "# df['Usage_kW'].fillna(0,inplace=True)\r\n",
        "df['Usage_kW'].ffill(inplace = True)\r\n",
        "# df['Usage_kW'] = df['Usage_kW'].fillna(df['Usage_kW'].rolling(3,min_periods=1).mean(), inplace = True)\r\n",
        "# rolling(6,min_periods=1).mean())\r\n",
        "df['IDs'] = df['IDs'].astype('category')\r\n",
        "df.head()"
      ],
      "execution_count": null,
      "outputs": [
        {
          "output_type": "stream",
          "text": [
            "/usr/local/lib/python3.6/dist-packages/ipykernel_launcher.py:6: SettingWithCopyWarning:\n",
            "\n",
            "\n",
            "A value is trying to be set on a copy of a slice from a DataFrame.\n",
            "Try using .loc[row_indexer,col_indexer] = value instead\n",
            "\n",
            "See the caveats in the documentation: https://pandas.pydata.org/pandas-docs/stable/user_guide/indexing.html#returning-a-view-versus-a-copy\n",
            "\n",
            "/usr/local/lib/python3.6/dist-packages/pandas/core/series.py:4536: SettingWithCopyWarning:\n",
            "\n",
            "\n",
            "A value is trying to be set on a copy of a slice from a DataFrame\n",
            "\n",
            "See the caveats in the documentation: https://pandas.pydata.org/pandas-docs/stable/user_guide/indexing.html#returning-a-view-versus-a-copy\n",
            "\n",
            "/usr/local/lib/python3.6/dist-packages/ipykernel_launcher.py:15: SettingWithCopyWarning:\n",
            "\n",
            "\n",
            "A value is trying to be set on a copy of a slice from a DataFrame.\n",
            "Try using .loc[row_indexer,col_indexer] = value instead\n",
            "\n",
            "See the caveats in the documentation: https://pandas.pydata.org/pandas-docs/stable/user_guide/indexing.html#returning-a-view-versus-a-copy\n",
            "\n"
          ],
          "name": "stderr"
        },
        {
          "output_type": "execute_result",
          "data": {
            "text/html": [
              "<div>\n",
              "<style scoped>\n",
              "    .dataframe tbody tr th:only-of-type {\n",
              "        vertical-align: middle;\n",
              "    }\n",
              "\n",
              "    .dataframe tbody tr th {\n",
              "        vertical-align: top;\n",
              "    }\n",
              "\n",
              "    .dataframe thead th {\n",
              "        text-align: right;\n",
              "    }\n",
              "</style>\n",
              "<table border=\"1\" class=\"dataframe\">\n",
              "  <thead>\n",
              "    <tr style=\"text-align: right;\">\n",
              "      <th></th>\n",
              "      <th>IDs</th>\n",
              "      <th>Date_Time</th>\n",
              "      <th>Usage_kW</th>\n",
              "    </tr>\n",
              "  </thead>\n",
              "  <tbody>\n",
              "    <tr>\n",
              "      <th>0</th>\n",
              "      <td>31</td>\n",
              "      <td>2018-06-01 00:00:00</td>\n",
              "      <td>3.6729</td>\n",
              "    </tr>\n",
              "    <tr>\n",
              "      <th>1</th>\n",
              "      <td>31</td>\n",
              "      <td>2018-06-01 00:01:00</td>\n",
              "      <td>3.6762</td>\n",
              "    </tr>\n",
              "    <tr>\n",
              "      <th>2</th>\n",
              "      <td>31</td>\n",
              "      <td>2018-06-01 00:02:00</td>\n",
              "      <td>3.6814</td>\n",
              "    </tr>\n",
              "    <tr>\n",
              "      <th>3</th>\n",
              "      <td>31</td>\n",
              "      <td>2018-06-01 00:03:00</td>\n",
              "      <td>3.6780</td>\n",
              "    </tr>\n",
              "    <tr>\n",
              "      <th>4</th>\n",
              "      <td>31</td>\n",
              "      <td>2018-06-01 00:04:00</td>\n",
              "      <td>3.6530</td>\n",
              "    </tr>\n",
              "  </tbody>\n",
              "</table>\n",
              "</div>"
            ],
            "text/plain": [
              "  IDs           Date_Time  Usage_kW\n",
              "0  31 2018-06-01 00:00:00    3.6729\n",
              "1  31 2018-06-01 00:01:00    3.6762\n",
              "2  31 2018-06-01 00:02:00    3.6814\n",
              "3  31 2018-06-01 00:03:00    3.6780\n",
              "4  31 2018-06-01 00:04:00    3.6530"
            ]
          },
          "metadata": {
            "tags": []
          },
          "execution_count": 6
        }
      ]
    },
    {
      "cell_type": "code",
      "metadata": {
        "id": "bfxBelqg5Y5F",
        "colab": {
          "base_uri": "https://localhost:8080/"
        },
        "outputId": "77b76ab5-7b56-4b7e-90de-32cd17d926f9"
      },
      "source": [
        "null_columns = df.columns[df.isnull().any()]    # Finding columns which contain null values\r\n",
        "df[null_columns].isnull().sum()\r\n"
      ],
      "execution_count": null,
      "outputs": [
        {
          "output_type": "execute_result",
          "data": {
            "text/plain": [
              "Series([], dtype: float64)"
            ]
          },
          "metadata": {
            "tags": []
          },
          "execution_count": 7
        }
      ]
    },
    {
      "cell_type": "code",
      "metadata": {
        "id": "OB821y826DJN"
      },
      "source": [
        "# df.iloc[1360801]"
      ],
      "execution_count": null,
      "outputs": []
    },
    {
      "cell_type": "code",
      "metadata": {
        "id": "7RHazY1uamli",
        "colab": {
          "base_uri": "https://localhost:8080/"
        },
        "outputId": "ea18b93e-a880-4198-b9ca-7a52db632dac"
      },
      "source": [
        "print('Number of houses',len(list(df['IDs'].unique())))\r\n",
        "df['IDs'].value_counts()"
      ],
      "execution_count": null,
      "outputs": [
        {
          "output_type": "stream",
          "text": [
            "Number of houses 42\n"
          ],
          "name": "stdout"
        },
        {
          "output_type": "execute_result",
          "data": {
            "text/plain": [
              "30    740160\n",
              "42    525600\n",
              "12    525600\n",
              "19    525600\n",
              "18    525600\n",
              "17    525600\n",
              "16    525600\n",
              "15    525600\n",
              "14    525600\n",
              "13    525600\n",
              "11    525600\n",
              "41    525600\n",
              "10    525600\n",
              "9     525600\n",
              "8     525600\n",
              "7     525600\n",
              "5     525600\n",
              "4     525600\n",
              "3     525600\n",
              "2     525600\n",
              "20    525600\n",
              "21    525600\n",
              "22    525600\n",
              "32    525600\n",
              "40    525600\n",
              "39    525600\n",
              "37    525600\n",
              "36    525600\n",
              "34    525600\n",
              "23    525600\n",
              "33    525600\n",
              "31    525600\n",
              "29    525600\n",
              "28    525600\n",
              "27    525600\n",
              "26    525600\n",
              "25    525600\n",
              "24    525600\n",
              "35    524161\n",
              "1     462240\n",
              "38    364320\n",
              "6     286560\n",
              "Name: IDs, dtype: int64"
            ]
          },
          "metadata": {
            "tags": []
          },
          "execution_count": 38
        }
      ]
    },
    {
      "cell_type": "code",
      "metadata": {
        "id": "Ii6LiKNQ8zod",
        "colab": {
          "base_uri": "https://localhost:8080/",
          "height": 204
        },
        "outputId": "381b0188-b5ab-456b-efa5-32539ad56569"
      },
      "source": [
        "df['Month'] = df['Date_Time'].dt.month\r\n",
        "# df['Month'] = df.apply(\r\n",
        "#     lambda row: '{:%b}'.format(datetime.strptime(str(row['month']), '%m')),\r\n",
        "#     axis=1\r\n",
        "# ) \r\n",
        "df.head()"
      ],
      "execution_count": null,
      "outputs": [
        {
          "output_type": "execute_result",
          "data": {
            "text/html": [
              "<div>\n",
              "<style scoped>\n",
              "    .dataframe tbody tr th:only-of-type {\n",
              "        vertical-align: middle;\n",
              "    }\n",
              "\n",
              "    .dataframe tbody tr th {\n",
              "        vertical-align: top;\n",
              "    }\n",
              "\n",
              "    .dataframe thead th {\n",
              "        text-align: right;\n",
              "    }\n",
              "</style>\n",
              "<table border=\"1\" class=\"dataframe\">\n",
              "  <thead>\n",
              "    <tr style=\"text-align: right;\">\n",
              "      <th></th>\n",
              "      <th>IDs</th>\n",
              "      <th>Date_Time</th>\n",
              "      <th>Usage_kW</th>\n",
              "      <th>Month</th>\n",
              "    </tr>\n",
              "  </thead>\n",
              "  <tbody>\n",
              "    <tr>\n",
              "      <th>0</th>\n",
              "      <td>31</td>\n",
              "      <td>2018-06-01 00:00:00</td>\n",
              "      <td>3.6729</td>\n",
              "      <td>6</td>\n",
              "    </tr>\n",
              "    <tr>\n",
              "      <th>1</th>\n",
              "      <td>31</td>\n",
              "      <td>2018-06-01 00:01:00</td>\n",
              "      <td>3.6762</td>\n",
              "      <td>6</td>\n",
              "    </tr>\n",
              "    <tr>\n",
              "      <th>2</th>\n",
              "      <td>31</td>\n",
              "      <td>2018-06-01 00:02:00</td>\n",
              "      <td>3.6814</td>\n",
              "      <td>6</td>\n",
              "    </tr>\n",
              "    <tr>\n",
              "      <th>3</th>\n",
              "      <td>31</td>\n",
              "      <td>2018-06-01 00:03:00</td>\n",
              "      <td>3.6780</td>\n",
              "      <td>6</td>\n",
              "    </tr>\n",
              "    <tr>\n",
              "      <th>4</th>\n",
              "      <td>31</td>\n",
              "      <td>2018-06-01 00:04:00</td>\n",
              "      <td>3.6530</td>\n",
              "      <td>6</td>\n",
              "    </tr>\n",
              "  </tbody>\n",
              "</table>\n",
              "</div>"
            ],
            "text/plain": [
              "  IDs           Date_Time  Usage_kW  Month\n",
              "0  31 2018-06-01 00:00:00    3.6729      6\n",
              "1  31 2018-06-01 00:01:00    3.6762      6\n",
              "2  31 2018-06-01 00:02:00    3.6814      6\n",
              "3  31 2018-06-01 00:03:00    3.6780      6\n",
              "4  31 2018-06-01 00:04:00    3.6530      6"
            ]
          },
          "metadata": {
            "tags": []
          },
          "execution_count": 8
        }
      ]
    },
    {
      "cell_type": "code",
      "metadata": {
        "id": "qrc-qkWxaXEX"
      },
      "source": [
        "# df['Month'] = pd.to_datetime(df['Date_Time'], format='%m').dt.month_name().str.slice(stop=3)"
      ],
      "execution_count": null,
      "outputs": []
    },
    {
      "cell_type": "code",
      "metadata": {
        "id": "RqMl2-koc5tz"
      },
      "source": [
        "\r\n"
      ],
      "execution_count": null,
      "outputs": []
    },
    {
      "cell_type": "code",
      "metadata": {
        "id": "VtJDCjb1Z0c4"
      },
      "source": [
        ""
      ],
      "execution_count": null,
      "outputs": []
    },
    {
      "cell_type": "markdown",
      "metadata": {
        "id": "D_XnILfBuo-e"
      },
      "source": [
        "## Graphs"
      ]
    },
    {
      "cell_type": "code",
      "metadata": {
        "id": "rjsFlQ1hZHKF"
      },
      "source": [
        "from matplotlib.dates import DateFormatter"
      ],
      "execution_count": null,
      "outputs": []
    },
    {
      "cell_type": "code",
      "metadata": {
        "colab": {
          "base_uri": "https://localhost:8080/",
          "height": 475
        },
        "id": "ZrqOy7WR62VQ",
        "outputId": "7b0fc205-cf43-48cf-8589-6449e7660b20"
      },
      "source": [
        "fig, ax = plt.subplots(figsize=(15,7))\r\n",
        "df.groupby(['Month']).sum()['Usage_kW'].plot(ax=ax)\r\n",
        "# date_form = DateFormatter(\"%b\")\r\n",
        "# ax.xaxis.set_major_formatter(date_form)\r\n",
        "ax.set_title('Average consumption over months')\r\n",
        "ax.set_ylabel('Consumption (kW)')"
      ],
      "execution_count": null,
      "outputs": [
        {
          "output_type": "execute_result",
          "data": {
            "text/plain": [
              "Text(0, 0.5, 'Consumption (kW)')"
            ]
          },
          "metadata": {
            "tags": []
          },
          "execution_count": 54
        },
        {
          "output_type": "display_data",
          "data": {
            "image/png": "[encoded data removed]",
            "text/plain": [
              "<Figure size 1080x504 with 1 Axes>"
            ]
          },
          "metadata": {
            "tags": [],
            "needs_background": "light"
          }
        }
      ]
    },
    {
      "cell_type": "code",
      "metadata": {
        "id": "MJdpOuiJ7KVY"
      },
      "source": [
        "\r\n",
        "# fig, ax = plt.subplots(figsize=(20,20))\r\n",
        "# df.groupby(['Month','IDs']).sum()['Usage_kW'].unstack().plot(ax=ax)\r\n",
        "# ax.legend(bbox_to_anchor=(1,0), loc=\"best\", ncol=42,handleheight=2.4, labelspacing=0.05)\r\n"
      ],
      "execution_count": null,
      "outputs": []
    },
    {
      "cell_type": "code",
      "metadata": {
        "id": "_Ea_apxW--P8"
      },
      "source": [
        ""
      ],
      "execution_count": null,
      "outputs": []
    },
    {
      "cell_type": "code",
      "metadata": {
        "id": "QbrD965oL8rj",
        "colab": {
          "base_uri": "https://localhost:8080/",
          "height": 542
        },
        "outputId": "fe2e2379-36da-4d1b-c340-97599c9b8e4a"
      },
      "source": [
        "\r\n",
        "ids = set(list((df['IDs'].unique())))\r\n",
        "\r\n",
        "fig = go.Figure()\r\n",
        "for i in ids: \r\n",
        "  data = df[df['IDs']==i]\r\n",
        "  x=data.groupby(['Month'])['Usage_kW'].sum()\r\n",
        "  \r\n",
        "  fig.add_trace(go.Scatter(x=x.index, y=x.values,\r\n",
        "                      mode='lines',\r\n",
        "                      name='ID'+str(i)))\r\n",
        "\r\n",
        "fig.update_layout(\r\n",
        "    title=\"Usage vs Months for each consumer\",\r\n",
        "    xaxis_title=\"Months\",\r\n",
        "    yaxis_title=\"Usage (kW)\",\r\n",
        "    \r\n",
        "    font=dict(\r\n",
        "        family=\"Courier New, monospace\",\r\n",
        "        size=18,\r\n",
        "        color=\"RebeccaPurple\"\r\n",
        "    ))\r\n",
        "fig.show()\r\n"
      ],
      "execution_count": null,
      "outputs": [
        {
          "output_type": "display_data",
          "data": {
            "text/html": [
              "<html>\n",
              "<head><meta charset=\"utf-8\" /></head>\n",
              "<body>\n",
              "    <div>\n",
              "            <script src=\"https://cdnjs.cloudflare.com/ajax/libs/mathjax/2.7.5/MathJax.js?config=TeX-AMS-MML_SVG\"></script><script type=\"text/javascript\">if (window.MathJax) {MathJax.Hub.Config({SVG: {font: \"STIX-Web\"}});}</script>\n",
              "                <script type=\"text/javascript\">window.PlotlyConfig = {MathJaxConfig: 'local'};</script>\n",
              "        <script src=\"https://cdn.plot.ly/plotly-latest.min.js\"></script>    \n",
              "            <div id=\"e5fd853a-7b93-43d4-b513-b92d3bf13796\" class=\"plotly-graph-div\" style=\"height:525px; width:100%;\"></div>\n",
              "            <script type=\"text/javascript\">\n",
              "                \n",
              "                    window.PLOTLYENV=window.PLOTLYENV || {};\n",
              "                    \n",
              "                if (document.getElementById(\"e5fd853a-7b93-43d4-b513-b92d3bf13796\")) {\n",
              "                    Plotly.newPlot(\n",
              "                        'e5fd853a-7b93-43d4-b513-b92d3bf13796',\n",
              "                        [{\"mode\": \"lines\", \"name\": \"ID1\", \"type\": \"scatter\", \"x\": [1, 2, 3, 4, 5, 7, 8, 9, 10, 11, 12], \"y\": [20164.037700000288, 16950.166900000033, 18535.940699999937, 27155.318400000073, 41279.2894000001, 35613.23909999983, 75349.09290000102, 55216.324600000335, 28405.676499999325, 19069.348299999885, 20570.96690000018]}, {\"mode\": \"lines\", \"name\": \"ID2\", \"type\": \"scatter\", \"x\": [1, 2, 3, 4, 5, 6, 7, 8, 9, 10, 11, 12], \"y\": [7127.9360999999335, 6650.30869999999, 9060.72749999995, 18472.85789999977, 23658.835800000008, 27769.79952995136, 24280.412999999986, 34546.88330000003, 28604.654700000003, 16842.512400000585, 10337.263999999934, 8705.02809999988]}, {\"mode\": \"lines\", \"name\": \"ID3\", \"type\": \"scatter\", \"x\": [1, 2, 3, 4, 5, 6, 7, 8, 9, 10, 11, 12], \"y\": [0.01729999999999995, 27193.142899999555, 45201.8996000001, 77269.10640000092, 107963.59380000042, 170173.94330000324, 160906.73020000057, 196131.46219999914, 164949.12429999583, 83809.64389999956, 32547.156199999838, 0.0]}, {\"mode\": \"lines\", \"name\": \"ID4\", \"type\": \"scatter\", \"x\": [1, 2, 3, 4, 5, 6, 7, 8, 9, 10, 11, 12], \"y\": [55726.11010000007, 48560.25219999991, 39863.96299999971, 54327.46720000045, 88386.38159999935, 114237.90840000006, 95187.8568999995, 122865.6489000001, 95424.10340000025, 59628.117999999944, 40599.36989999983, 54117.97239999955]}, {\"mode\": \"lines\", \"name\": \"ID5\", \"type\": \"scatter\", \"x\": [1, 2, 3, 4, 5, 6, 7, 8, 9, 10, 11, 12], \"y\": [13592.30159999993, 10914.954600000085, 11702.146799999555, 17966.732499999172, 37323.80719999998, 54507.645699997774, 50831.61889999933, 58709.94760000041, 43775.97970000032, 20689.976300000344, 10895.336399999878, 10751.770499999739]}, {\"mode\": \"lines\", \"name\": \"ID6\", \"type\": \"scatter\", \"x\": [1, 2, 3, 4, 5, 11, 12], \"y\": [37695.224200000186, 26512.581899999892, 24056.90309999985, 55049.24169999892, 36285.15199999997, 10252.266399999906, 28476.744699999632]}, {\"mode\": \"lines\", \"name\": \"ID7\", \"type\": \"scatter\", \"x\": [1, 2, 3, 4, 5, 6, 7, 8, 9, 10, 11, 12], \"y\": [16977.842800000024, 14757.95339999998, 18031.88060000001, 29585.0535999999, 63600.13890000056, 95949.95679999728, 81013.7882000007, 88547.66760000019, 62911.10970000064, 28405.180399999757, 17690.261100000065, 16025.413899999949]}, {\"mode\": \"lines\", \"name\": \"ID8\", \"type\": \"scatter\", \"x\": [1, 2, 3, 4, 5, 6, 7, 8, 9, 10, 11, 12], \"y\": [11153.887800000008, 10887.889600000157, 11583.741199999826, 24993.816000000053, 48984.62049999966, 24674.456100000003, 26283.021400000325, 25981.50070000021, 27150.264399999458, 21514.589800000216, 16555.185600000328, 12723.844799999888]}, {\"mode\": \"lines\", \"name\": \"ID9\", \"type\": \"scatter\", \"x\": [1, 2, 3, 4, 5, 6, 7, 8, 9, 10, 11, 12], \"y\": [7676.498999999997, 6088.430199999941, 6093.612100000041, 25247.08829999993, 38144.393499999846, 43770.359899999916, 33056.86030000028, 34605.66090000031, 31713.92350000005, 12227.799000000028, 6840.659900000031, 7983.413099999892]}, {\"mode\": \"lines\", \"name\": \"ID10\", \"type\": \"scatter\", \"x\": [1, 2, 3, 4, 5, 6, 7, 8, 9, 10, 11, 12], \"y\": [3869.3858999999993, 6841.648500000027, 10848.873199999982, 19999.926699999716, 28819.981499999973, 26987.992200000022, 26229.83140000007, 39156.88090000043, 32320.46839999994, 20834.712699999945, 12171.704799999823, 12964.040700000072]}, {\"mode\": \"lines\", \"name\": \"ID11\", \"type\": \"scatter\", \"x\": [1, 2, 3, 4, 5, 6, 7, 8, 9, 10, 11, 12], \"y\": [21935.500100000223, 14294.794299999892, 9045.705999999802, 15806.268800000176, 23159.492899999663, 44752.33549999936, 43759.64940000068, 43977.39819999905, 28048.840000000117, 13492.71070000003, 7571.792099999972, 14326.057499999886]}, {\"mode\": \"lines\", \"name\": \"ID12\", \"type\": \"scatter\", \"x\": [1, 2, 3, 4, 5, 6, 7, 8, 9, 10, 11, 12], \"y\": [11969.886100000293, 6636.223700000014, 5124.18349999976, 34162.76179999989, 34784.49229999747, 14718.708899999501, 33938.605099996625, 56447.09460000841, 42658.29979999868, 23716.928900000094, 7059.063300000256, 22160.21409999984]}, {\"mode\": \"lines\", \"name\": \"ID13\", \"type\": \"scatter\", \"x\": [1, 2, 3, 4, 5, 6, 7, 8, 9, 10, 11, 12], \"y\": [12174.4523999999, 11015.401799999874, 10114.529699999777, 15366.21590000014, 29794.27210000021, 52359.75579999901, 39912.76900000038, 45639.813900000474, 34536.03279999962, 14237.812599999783, 10559.57760000012, 12747.302999999845]}, {\"mode\": \"lines\", \"name\": \"ID14\", \"type\": \"scatter\", \"x\": [1, 2, 3, 4, 5, 6, 7, 8, 9, 10, 11, 12], \"y\": [4317.541700000013, 4279.370400000055, 5125.281399999791, 11368.936100000132, 31330.78249999984, 0.0, 17975.7810000006, 27450.661699999728, 23207.808200000134, 12686.028199999962, 7402.90689999982, 4841.642099999766]}, {\"mode\": \"lines\", \"name\": \"ID15\", \"type\": \"scatter\", \"x\": [1, 2, 3, 4, 5, 6, 7, 8, 9, 10, 11, 12], \"y\": [29122.81020000014, 32859.873399999335, 37966.06990000013, 59054.18840000024, 77373.08680000073, 122447.91169999925, 112738.22099999955, 136061.88349999956, 92804.09839999955, 52296.55739999988, 34033.26730000007, 26142.033900000028]}, {\"mode\": \"lines\", \"name\": \"ID16\", \"type\": \"scatter\", \"x\": [1, 2, 3, 4, 5, 6, 7, 8, 9, 10, 11, 12], \"y\": [119623.27120000534, 86205.78828525952, 56220.83799999838, 81704.1664999984, 134989.2956000012, 130407.7531999983, 123569.1651000001, 126137.97980000076, 99790.94369999865, 69591.4948000004, 86684.97050000029, 137137.07280000194]}, {\"mode\": \"lines\", \"name\": \"ID17\", \"type\": \"scatter\", \"x\": [1, 2, 3, 4, 5, 6, 7, 8, 9, 10, 11, 12], \"y\": [5876.952300000182, 4940.0940000001865, 5195.202200000045, 8772.532199999854, 20425.727443589843, 31771.89550000005, 32057.70770000023, 26674.56689999969, 23629.149200000167, 9550.591500000215, 5566.356600000263, 6302.173100000031]}, {\"mode\": \"lines\", \"name\": \"ID18\", \"type\": \"scatter\", \"x\": [1, 2, 3, 4, 5, 6, 7, 8, 9, 10, 11, 12], \"y\": [16065.95946124869, 14660.085299999593, 16178.429300000034, 18231.91609999974, 35041.96670000015, 44924.04299999999, 51776.251799999365, 52456.0662000001, 35128.13069999988, 20016.756000000183, 14313.710399999965, 13495.235600000098]}, {\"mode\": \"lines\", \"name\": \"ID19\", \"type\": \"scatter\", \"x\": [1, 2, 3, 4, 5, 6, 7, 8, 9, 10, 11, 12], \"y\": [53778.20860000028, 44316.08179999981, 23589.873700000313, 49611.670299999874, 85851.72069999996, 76604.19980000278, 113352.03450000036, 72667.99580000022, 59461.76370000017, 31695.51699999987, 18488.523700000027, 20944.80269999987]}, {\"mode\": \"lines\", \"name\": \"ID20\", \"type\": \"scatter\", \"x\": [1, 2, 3, 4, 5, 6, 7, 8, 9, 10, 11, 12], \"y\": [13815.908300000441, 12977.239200000075, 12189.034099999695, 24467.594999999706, 33700.6641000002, 54384.25440000095, 58440.42030000014, 57978.472499999676, 39408.21849999977, 24122.00379999982, 14749.321300000125, 13852.739799999694]}, {\"mode\": \"lines\", \"name\": \"ID21\", \"type\": \"scatter\", \"x\": [1, 2, 3, 4, 5, 6, 7, 8, 9, 10, 11, 12], \"y\": [14219.740000000045, 13430.119400000161, 16747.54090000024, 27524.547302488765, 37765.33699999985, 57600.5568999988, 46832.517300001105, 66168.12310000013, 46826.58259999962, 25622.102000000064, 22916.773799999926, 14739.217099999554]}, {\"mode\": \"lines\", \"name\": \"ID22\", \"type\": \"scatter\", \"x\": [1, 2, 3, 4, 5, 6, 7, 8, 9, 10, 11, 12], \"y\": [11428.327399999836, 12885.514099999637, 10213.721999999903, 24547.80259999968, 29852.6045999998, 36780.35790000001, 30943.328699999696, 40363.5851999997, 32420.315500000033, 16201.095900000179, 9505.501199999888, 11120.788300000024]}, {\"mode\": \"lines\", \"name\": \"ID23\", \"type\": \"scatter\", \"x\": [1, 2, 3, 4, 5, 6, 7, 8, 9, 10, 11, 12], \"y\": [20805.253599999996, 22320.55429999965, 26753.494599999747, 43901.92079999977, 66717.69240000048, 62123.19479999792, 56230.001799999816, 75101.80509999966, 54904.390599999606, 36780.520599999865, 23573.02570000004, 22384.702699999274]}, {\"mode\": \"lines\", \"name\": \"ID24\", \"type\": \"scatter\", \"x\": [1, 2, 3, 4, 5, 6, 7, 8, 9, 10, 11, 12], \"y\": [3007.8897000001994, 2988.689300000059, 5629.311000000022, 14250.263599999973, 40303.95440000022, 0.0, 0.0, 1.5818999999998422, 59309.067700001535, 21126.378800000024, 6749.359500000053, 5848.9122999998945]}, {\"mode\": \"lines\", \"name\": \"ID25\", \"type\": \"scatter\", \"x\": [1, 2, 3, 4, 5, 6, 7, 8, 9, 10, 11, 12], \"y\": [10642.341600000062, 9724.84649999993, 10757.074100000103, 21700.90699999985, 34939.11690000029, 51064.34060000012, 44894.153500000626, 50600.788600000415, 37095.91070000091, 17598.210599999795, 11604.732600000081, 10815.853400000036]}, {\"mode\": \"lines\", \"name\": \"ID26\", \"type\": \"scatter\", \"x\": [1, 2, 3, 4, 5, 6, 7, 8, 9, 10, 11, 12], \"y\": [26569.559500000738, 22416.912000000273, 25351.301000000112, 32352.633399999606, 49789.00300000018, 66007.32849999933, 69350.52729999986, 81731.08739999935, 66398.96739999959, 39975.20760000008, 24091.70009999981, 25577.949099999674]}, {\"mode\": \"lines\", \"name\": \"ID27\", \"type\": \"scatter\", \"x\": [1, 2, 3, 4, 5, 6, 7, 8, 9, 10, 11, 12], \"y\": [7000.507199999883, 7024.417699999752, 8535.767099999894, 8697.85230000012, 11510.56959999998, 37733.54800000096, 44808.33530000025, 50745.0445000007, 40102.79289999993, 8511.741899999943, 7358.584199999852, 6741.367699999923]}, {\"mode\": \"lines\", \"name\": \"ID28\", \"type\": \"scatter\", \"x\": [1, 2, 3, 4, 5, 6, 7, 8, 9, 10, 11, 12], \"y\": [17576.30070000003, 15414.304099999692, 17678.107800000053, 29007.680199999955, 64255.78469999971, 115548.2469999999, 92532.62710000025, 138338.08489999943, 82267.29470000052, 32174.00289999955, 21627.33149999976, 18201.212300000017]}, {\"mode\": \"lines\", \"name\": \"ID29\", \"type\": \"scatter\", \"x\": [1, 2, 3, 4, 5, 6, 7, 8, 9, 10, 11, 12], \"y\": [46823.87249999978, 74037.77699999735, 30970.11999999994, 21202.07900000016, 45656.491200000055, 65218.02879999941, 46610.88170000026, 77980.18539999855, 40625.39919999957, 14631.544300000007, 11806.923799999948, 34104.11390000003]}, {\"mode\": \"lines\", \"name\": \"ID30\", \"type\": \"scatter\", \"x\": [1, 2, 3, 4, 5, 6, 7, 8, 9, 10, 11, 12], \"y\": [26548.915599999324, 24181.47250000002, 61809.85560000226, 110149.64089999955, 177635.00580001462, 118068.87809999839, 106532.41679999823, 126564.57669999903, 89219.6752999994, 44250.23329999959, 29967.346599999946, 30608.145999999913]}, {\"mode\": \"lines\", \"name\": \"ID31\", \"type\": \"scatter\", \"x\": [1, 2, 3, 4, 5, 6, 7, 8, 9, 10, 11, 12], \"y\": [61869.67650000042, 35718.25859999983, 26725.33900000025, 53577.29159999973, 82330.56309999962, 48660.27519999785, 90472.67739999953, 76641.90089999938, 74188.33479999988, 33749.24430000066, 14954.840999999942, 51341.58640000037]}, {\"mode\": \"lines\", \"name\": \"ID32\", \"type\": \"scatter\", \"x\": [1, 2, 3, 4, 5, 6, 7, 8, 9, 10, 11, 12], \"y\": [14485.325899999982, 15148.302299999841, 16076.542300000165, 24317.33370000003, 43959.51020000012, 68979.3383999995, 48150.46629999963, 55885.03150000005, 45478.250999999655, 23731.48419999941, 13304.312099999952, 12946.093299999822]}, {\"mode\": \"lines\", \"name\": \"ID33\", \"type\": \"scatter\", \"x\": [1, 2, 3, 4, 5, 6, 7, 8, 9, 10, 11, 12], \"y\": [13289.100700000134, 10517.27680000002, 11440.220200000034, 23988.61299999974, 31297.48740000001, 58487.03260000024, 67651.3384999995, 63802.67439999977, 53639.86679999962, 33812.23959999975, 9236.949499999984, 7948.26350000003]}, {\"mode\": \"lines\", \"name\": \"ID34\", \"type\": \"scatter\", \"x\": [1, 2, 3, 4, 5, 6, 7, 8, 9, 10, 11, 12], \"y\": [72752.98540000085, 60190.72719999932, 37704.849999999926, 45695.20962092093, 78629.8660000013, 140625.52259999813, 117039.11789999958, 110409.22269999952, 75550.06629999899, 49791.80050000037, 34348.10720000024, 48392.93140000041]}, {\"mode\": \"lines\", \"name\": \"ID35\", \"type\": \"scatter\", \"x\": [1, 2, 3, 4, 5, 6, 7, 8, 9, 10, 11, 12], \"y\": [12673.126733429834, 17188.881483357745, 22195.180033297773, 31899.314916702664, 45493.207666603266, 55744.83596666385, 55730.7639333382, 58453.35231672893, 44438.96908338513, 31163.03568336003, 19758.68298330574, 18620.99483335996]}, {\"mode\": \"lines\", \"name\": \"ID36\", \"type\": \"scatter\", \"x\": [1, 2, 3, 4, 5, 6, 7, 8, 9, 10, 11, 12], \"y\": [12726.49320000002, 10896.646599999696, 15332.04220000008, 29221.230499999932, 34237.31080000032, 50203.75259999864, 50637.740100000105, 52398.07559999911, 37388.24979999956, 29877.55709999988, 13132.971299999706, 12500.0498999999]}, {\"mode\": \"lines\", \"name\": \"ID37\", \"type\": \"scatter\", \"x\": [1, 2, 3, 4, 5, 6, 7, 8, 9, 10, 11, 12], \"y\": [12451.051899999893, 11174.519600000129, 13460.369799999922, 25442.223600000507, 40679.42220000059, 64613.10609999956, 56731.11209999957, 57762.126399999695, 41230.27189999961, 21768.60049999971, 16266.5654999999, 12713.891699999831]}, {\"mode\": \"lines\", \"name\": \"ID38\", \"type\": \"scatter\", \"x\": [1, 2, 6, 7, 8, 9, 10, 11, 12], \"y\": [22758.33620000022, 12629.688300000222, 72913.16900000097, 67319.09269999916, 65220.77810000066, 51674.80630000013, 19550.78859999995, 13468.026100000017, 21703.69400000022]}, {\"mode\": \"lines\", \"name\": \"ID39\", \"type\": \"scatter\", \"x\": [1, 2, 3, 4, 5, 6, 7, 8, 9, 10, 11, 12], \"y\": [13572.892299999954, 13719.11210000016, 17606.992699999453, 27376.196700000375, 35727.429099999994, 43176.50220000133, 39960.235500000985, 47495.66819999886, 43102.10990000007, 32497.478400000284, 20787.431999999942, 17315.09219999999]}, {\"mode\": \"lines\", \"name\": \"ID40\", \"type\": \"scatter\", \"x\": [1, 2, 3, 4, 5, 6, 7, 8, 9, 10, 11, 12], \"y\": [25535.886499999913, 20582.496800000077, 20767.370799999775, 45813.310799999526, 85705.116, 126635.65189999818, 104799.83229999935, 124413.00490000137, 114096.10069999991, 42935.14829999836, 21987.278300000395, 21948.932800000086]}, {\"mode\": \"lines\", \"name\": \"ID41\", \"type\": \"scatter\", \"x\": [1, 2, 3, 4, 5, 6, 7, 8, 9, 10, 11, 12], \"y\": [11449.8039, 11078.95109999996, 11515.565999999946, 28991.170699999464, 39729.261799999775, 30266.861300001197, 38622.79410000008, 42142.98759999984, 39065.43460000076, 22391.59069999981, 12317.421999999782, 11723.119299999926]}, {\"mode\": \"lines\", \"name\": \"ID42\", \"type\": \"scatter\", \"x\": [1, 2, 3, 4, 5, 6, 7, 8, 9, 10, 11, 12], \"y\": [11647.615099999704, 13083.395199999883, 15024.5025999995, 21332.437600000107, 30138.979100000233, 18552.34679999987, 22407.79700000008, 22301.342599999858, 22805.288700000023, 19678.74780000007, 10728.206199999786, 11410.665300000139]}],\n",
              "                        {\"font\": {\"color\": \"RebeccaPurple\", \"family\": \"Courier New, monospace\", \"size\": 18}, \"template\": {\"data\": {\"bar\": [{\"error_x\": {\"color\": \"#2a3f5f\"}, \"error_y\": {\"color\": \"#2a3f5f\"}, \"marker\": {\"line\": {\"color\": \"#E5ECF6\", \"width\": 0.5}}, \"type\": \"bar\"}], \"barpolar\": [{\"marker\": {\"line\": {\"color\": \"#E5ECF6\", \"width\": 0.5}}, \"type\": \"barpolar\"}], \"carpet\": [{\"aaxis\": {\"endlinecolor\": \"#2a3f5f\", \"gridcolor\": \"white\", \"linecolor\": \"white\", \"minorgridcolor\": \"white\", \"startlinecolor\": \"#2a3f5f\"}, \"baxis\": {\"endlinecolor\": \"#2a3f5f\", \"gridcolor\": \"white\", \"linecolor\": \"white\", \"minorgridcolor\": \"white\", \"startlinecolor\": \"#2a3f5f\"}, \"type\": \"carpet\"}], \"choropleth\": [{\"colorbar\": {\"outlinewidth\": 0, \"ticks\": \"\"}, \"type\": \"choropleth\"}], \"contour\": [{\"colorbar\": {\"outlinewidth\": 0, \"ticks\": \"\"}, \"colorscale\": [[0.0, \"#0d0887\"], [0.1111111111111111, \"#46039f\"], [0.2222222222222222, \"#7201a8\"], [0.3333333333333333, \"#9c179e\"], [0.4444444444444444, \"#bd3786\"], [0.5555555555555556, \"#d8576b\"], [0.6666666666666666, \"#ed7953\"], [0.7777777777777778, \"#fb9f3a\"], [0.8888888888888888, \"#fdca26\"], [1.0, \"#f0f921\"]], \"type\": \"contour\"}], \"contourcarpet\": [{\"colorbar\": {\"outlinewidth\": 0, \"ticks\": \"\"}, \"type\": \"contourcarpet\"}], \"heatmap\": [{\"colorbar\": {\"outlinewidth\": 0, \"ticks\": \"\"}, \"colorscale\": [[0.0, \"#0d0887\"], [0.1111111111111111, \"#46039f\"], [0.2222222222222222, \"#7201a8\"], [0.3333333333333333, \"#9c179e\"], [0.4444444444444444, \"#bd3786\"], [0.5555555555555556, \"#d8576b\"], [0.6666666666666666, \"#ed7953\"], [0.7777777777777778, \"#fb9f3a\"], [0.8888888888888888, \"#fdca26\"], [1.0, \"#f0f921\"]], \"type\": \"heatmap\"}], \"heatmapgl\": [{\"colorbar\": {\"outlinewidth\": 0, \"ticks\": \"\"}, \"colorscale\": [[0.0, \"#0d0887\"], [0.1111111111111111, \"#46039f\"], [0.2222222222222222, \"#7201a8\"], [0.3333333333333333, \"#9c179e\"], [0.4444444444444444, \"#bd3786\"], [0.5555555555555556, \"#d8576b\"], [0.6666666666666666, \"#ed7953\"], [0.7777777777777778, \"#fb9f3a\"], [0.8888888888888888, \"#fdca26\"], [1.0, \"#f0f921\"]], \"type\": \"heatmapgl\"}], \"histogram\": [{\"marker\": {\"colorbar\": {\"outlinewidth\": 0, \"ticks\": \"\"}}, \"type\": \"histogram\"}], \"histogram2d\": [{\"colorbar\": {\"outlinewidth\": 0, \"ticks\": \"\"}, \"colorscale\": [[0.0, \"#0d0887\"], [0.1111111111111111, \"#46039f\"], [0.2222222222222222, \"#7201a8\"], [0.3333333333333333, \"#9c179e\"], [0.4444444444444444, \"#bd3786\"], [0.5555555555555556, \"#d8576b\"], [0.6666666666666666, \"#ed7953\"], [0.7777777777777778, \"#fb9f3a\"], [0.8888888888888888, \"#fdca26\"], [1.0, \"#f0f921\"]], \"type\": \"histogram2d\"}], \"histogram2dcontour\": [{\"colorbar\": {\"outlinewidth\": 0, \"ticks\": \"\"}, \"colorscale\": [[0.0, \"#0d0887\"], [0.1111111111111111, \"#46039f\"], [0.2222222222222222, \"#7201a8\"], [0.3333333333333333, \"#9c179e\"], [0.4444444444444444, \"#bd3786\"], [0.5555555555555556, \"#d8576b\"], [0.6666666666666666, \"#ed7953\"], [0.7777777777777778, \"#fb9f3a\"], [0.8888888888888888, \"#fdca26\"], [1.0, \"#f0f921\"]], \"type\": \"histogram2dcontour\"}], \"mesh3d\": [{\"colorbar\": {\"outlinewidth\": 0, \"ticks\": \"\"}, \"type\": \"mesh3d\"}], \"parcoords\": [{\"line\": {\"colorbar\": {\"outlinewidth\": 0, \"ticks\": \"\"}}, \"type\": \"parcoords\"}], \"pie\": [{\"automargin\": true, \"type\": \"pie\"}], \"scatter\": [{\"marker\": {\"colorbar\": {\"outlinewidth\": 0, \"ticks\": \"\"}}, \"type\": \"scatter\"}], \"scatter3d\": [{\"line\": {\"colorbar\": {\"outlinewidth\": 0, \"ticks\": \"\"}}, \"marker\": {\"colorbar\": {\"outlinewidth\": 0, \"ticks\": \"\"}}, \"type\": \"scatter3d\"}], \"scattercarpet\": [{\"marker\": {\"colorbar\": {\"outlinewidth\": 0, \"ticks\": \"\"}}, \"type\": \"scattercarpet\"}], \"scattergeo\": [{\"marker\": {\"colorbar\": {\"outlinewidth\": 0, \"ticks\": \"\"}}, \"type\": \"scattergeo\"}], \"scattergl\": [{\"marker\": {\"colorbar\": {\"outlinewidth\": 0, \"ticks\": \"\"}}, \"type\": \"scattergl\"}], \"scattermapbox\": [{\"marker\": {\"colorbar\": {\"outlinewidth\": 0, \"ticks\": \"\"}}, \"type\": \"scattermapbox\"}], \"scatterpolar\": [{\"marker\": {\"colorbar\": {\"outlinewidth\": 0, \"ticks\": \"\"}}, \"type\": \"scatterpolar\"}], \"scatterpolargl\": [{\"marker\": {\"colorbar\": {\"outlinewidth\": 0, \"ticks\": \"\"}}, \"type\": \"scatterpolargl\"}], \"scatterternary\": [{\"marker\": {\"colorbar\": {\"outlinewidth\": 0, \"ticks\": \"\"}}, \"type\": \"scatterternary\"}], \"surface\": [{\"colorbar\": {\"outlinewidth\": 0, \"ticks\": \"\"}, \"colorscale\": [[0.0, \"#0d0887\"], [0.1111111111111111, \"#46039f\"], [0.2222222222222222, \"#7201a8\"], [0.3333333333333333, \"#9c179e\"], [0.4444444444444444, \"#bd3786\"], [0.5555555555555556, \"#d8576b\"], [0.6666666666666666, \"#ed7953\"], [0.7777777777777778, \"#fb9f3a\"], [0.8888888888888888, \"#fdca26\"], [1.0, \"#f0f921\"]], \"type\": \"surface\"}], \"table\": [{\"cells\": {\"fill\": {\"color\": \"#EBF0F8\"}, \"line\": {\"color\": \"white\"}}, \"header\": {\"fill\": {\"color\": \"#C8D4E3\"}, \"line\": {\"color\": \"white\"}}, \"type\": \"table\"}]}, \"layout\": {\"annotationdefaults\": {\"arrowcolor\": \"#2a3f5f\", \"arrowhead\": 0, \"arrowwidth\": 1}, \"coloraxis\": {\"colorbar\": {\"outlinewidth\": 0, \"ticks\": \"\"}}, \"colorscale\": {\"diverging\": [[0, \"#8e0152\"], [0.1, \"#c51b7d\"], [0.2, \"#de77ae\"], [0.3, \"#f1b6da\"], [0.4, \"#fde0ef\"], [0.5, \"#f7f7f7\"], [0.6, \"#e6f5d0\"], [0.7, \"#b8e186\"], [0.8, \"#7fbc41\"], [0.9, \"#4d9221\"], [1, \"#276419\"]], \"sequential\": [[0.0, \"#0d0887\"], [0.1111111111111111, \"#46039f\"], [0.2222222222222222, \"#7201a8\"], [0.3333333333333333, \"#9c179e\"], [0.4444444444444444, \"#bd3786\"], [0.5555555555555556, \"#d8576b\"], [0.6666666666666666, \"#ed7953\"], [0.7777777777777778, \"#fb9f3a\"], [0.8888888888888888, \"#fdca26\"], [1.0, \"#f0f921\"]], \"sequentialminus\": [[0.0, \"#0d0887\"], [0.1111111111111111, \"#46039f\"], [0.2222222222222222, \"#7201a8\"], [0.3333333333333333, \"#9c179e\"], [0.4444444444444444, \"#bd3786\"], [0.5555555555555556, \"#d8576b\"], [0.6666666666666666, \"#ed7953\"], [0.7777777777777778, \"#fb9f3a\"], [0.8888888888888888, \"#fdca26\"], [1.0, \"#f0f921\"]]}, \"colorway\": [\"#636efa\", \"#EF553B\", \"#00cc96\", \"#ab63fa\", \"#FFA15A\", \"#19d3f3\", \"#FF6692\", \"#B6E880\", \"#FF97FF\", \"#FECB52\"], \"font\": {\"color\": \"#2a3f5f\"}, \"geo\": {\"bgcolor\": \"white\", \"lakecolor\": \"white\", \"landcolor\": \"#E5ECF6\", \"showlakes\": true, \"showland\": true, \"subunitcolor\": \"white\"}, \"hoverlabel\": {\"align\": \"left\"}, \"hovermode\": \"closest\", \"mapbox\": {\"style\": \"light\"}, \"paper_bgcolor\": \"white\", \"plot_bgcolor\": \"#E5ECF6\", \"polar\": {\"angularaxis\": {\"gridcolor\": \"white\", \"linecolor\": \"white\", \"ticks\": \"\"}, \"bgcolor\": \"#E5ECF6\", \"radialaxis\": {\"gridcolor\": \"white\", \"linecolor\": \"white\", \"ticks\": \"\"}}, \"scene\": {\"xaxis\": {\"backgroundcolor\": \"#E5ECF6\", \"gridcolor\": \"white\", \"gridwidth\": 2, \"linecolor\": \"white\", \"showbackground\": true, \"ticks\": \"\", \"zerolinecolor\": \"white\"}, \"yaxis\": {\"backgroundcolor\": \"#E5ECF6\", \"gridcolor\": \"white\", \"gridwidth\": 2, \"linecolor\": \"white\", \"showbackground\": true, \"ticks\": \"\", \"zerolinecolor\": \"white\"}, \"zaxis\": {\"backgroundcolor\": \"#E5ECF6\", \"gridcolor\": \"white\", \"gridwidth\": 2, \"linecolor\": \"white\", \"showbackground\": true, \"ticks\": \"\", \"zerolinecolor\": \"white\"}}, \"shapedefaults\": {\"line\": {\"color\": \"#2a3f5f\"}}, \"ternary\": {\"aaxis\": {\"gridcolor\": \"white\", \"linecolor\": \"white\", \"ticks\": \"\"}, \"baxis\": {\"gridcolor\": \"white\", \"linecolor\": \"white\", \"ticks\": \"\"}, \"bgcolor\": \"#E5ECF6\", \"caxis\": {\"gridcolor\": \"white\", \"linecolor\": \"white\", \"ticks\": \"\"}}, \"title\": {\"x\": 0.05}, \"xaxis\": {\"automargin\": true, \"gridcolor\": \"white\", \"linecolor\": \"white\", \"ticks\": \"\", \"title\": {\"standoff\": 15}, \"zerolinecolor\": \"white\", \"zerolinewidth\": 2}, \"yaxis\": {\"automargin\": true, \"gridcolor\": \"white\", \"linecolor\": \"white\", \"ticks\": \"\", \"title\": {\"standoff\": 15}, \"zerolinecolor\": \"white\", \"zerolinewidth\": 2}}}, \"title\": {\"text\": \"Usage vs Months for each consumer\"}, \"xaxis\": {\"title\": {\"text\": \"Months\"}}, \"yaxis\": {\"title\": {\"text\": \"Usage (kW)\"}}},\n",
              "                        {\"responsive\": true}\n",
              "                    ).then(function(){\n",
              "                            \n",
              "var gd = document.getElementById('e5fd853a-7b93-43d4-b513-b92d3bf13796');\n",
              "var x = new MutationObserver(function (mutations, observer) {{\n",
              "        var display = window.getComputedStyle(gd).display;\n",
              "        if (!display || display === 'none') {{\n",
              "            console.log([gd, 'removed!']);\n",
              "            Plotly.purge(gd);\n",
              "            observer.disconnect();\n",
              "        }}\n",
              "}});\n",
              "\n",
              "// Listen for the removal of the full notebook cells\n",
              "var notebookContainer = gd.closest('#notebook-container');\n",
              "if (notebookContainer) {{\n",
              "    x.observe(notebookContainer, {childList: true});\n",
              "}}\n",
              "\n",
              "// Listen for the clearing of the current output cell\n",
              "var outputEl = gd.closest('.output');\n",
              "if (outputEl) {{\n",
              "    x.observe(outputEl, {childList: true});\n",
              "}}\n",
              "\n",
              "                        })\n",
              "                };\n",
              "                \n",
              "            </script>\n",
              "        </div>\n",
              "</body>\n",
              "</html>"
            ]
          },
          "metadata": {
            "tags": []
          }
        }
      ]
    },
    {
      "cell_type": "code",
      "metadata": {
        "colab": {
          "base_uri": "https://localhost:8080/",
          "height": 476
        },
        "id": "qL9ZYRvNITRj",
        "outputId": "9751b67c-b356-4fc3-8091-a3fe0c306fa9"
      },
      "source": [
        "df_temp = frame[['IDs','Date_Time','Usage_kW']]\r\n",
        "df_temp['Date_Time'] = df_temp['Date_Time'].apply(pd.Timestamp)\r\n",
        "\r\n",
        "\r\n",
        "# null_columns = df_temp.columns[df_temp.isnull().any()]    # Finding columns which contain null values\r\n",
        "# df_temp[null_columns].isnull().sum()\r\n",
        "# df_temp['Usage_kW'].fillna(0,inplace=True)\r\n",
        "\r\n",
        "df_temp['IDs'] = df_temp['IDs'].astype('category')\r\n",
        "df_temp.head()"
      ],
      "execution_count": null,
      "outputs": [
        {
          "output_type": "stream",
          "text": [
            "/usr/local/lib/python3.6/dist-packages/ipykernel_launcher.py:2: SettingWithCopyWarning:\n",
            "\n",
            "\n",
            "A value is trying to be set on a copy of a slice from a DataFrame.\n",
            "Try using .loc[row_indexer,col_indexer] = value instead\n",
            "\n",
            "See the caveats in the documentation: https://pandas.pydata.org/pandas-docs/stable/user_guide/indexing.html#returning-a-view-versus-a-copy\n",
            "\n",
            "/usr/local/lib/python3.6/dist-packages/ipykernel_launcher.py:9: SettingWithCopyWarning:\n",
            "\n",
            "\n",
            "A value is trying to be set on a copy of a slice from a DataFrame.\n",
            "Try using .loc[row_indexer,col_indexer] = value instead\n",
            "\n",
            "See the caveats in the documentation: https://pandas.pydata.org/pandas-docs/stable/user_guide/indexing.html#returning-a-view-versus-a-copy\n",
            "\n"
          ],
          "name": "stderr"
        },
        {
          "output_type": "execute_result",
          "data": {
            "text/html": [
              "<div>\n",
              "<style scoped>\n",
              "    .dataframe tbody tr th:only-of-type {\n",
              "        vertical-align: middle;\n",
              "    }\n",
              "\n",
              "    .dataframe tbody tr th {\n",
              "        vertical-align: top;\n",
              "    }\n",
              "\n",
              "    .dataframe thead th {\n",
              "        text-align: right;\n",
              "    }\n",
              "</style>\n",
              "<table border=\"1\" class=\"dataframe\">\n",
              "  <thead>\n",
              "    <tr style=\"text-align: right;\">\n",
              "      <th></th>\n",
              "      <th>IDs</th>\n",
              "      <th>Date_Time</th>\n",
              "      <th>Usage_kW</th>\n",
              "    </tr>\n",
              "  </thead>\n",
              "  <tbody>\n",
              "    <tr>\n",
              "      <th>0</th>\n",
              "      <td>31</td>\n",
              "      <td>2018-06-01 00:00:00</td>\n",
              "      <td>3.6729</td>\n",
              "    </tr>\n",
              "    <tr>\n",
              "      <th>1</th>\n",
              "      <td>31</td>\n",
              "      <td>2018-06-01 00:01:00</td>\n",
              "      <td>3.6762</td>\n",
              "    </tr>\n",
              "    <tr>\n",
              "      <th>2</th>\n",
              "      <td>31</td>\n",
              "      <td>2018-06-01 00:02:00</td>\n",
              "      <td>3.6814</td>\n",
              "    </tr>\n",
              "    <tr>\n",
              "      <th>3</th>\n",
              "      <td>31</td>\n",
              "      <td>2018-06-01 00:03:00</td>\n",
              "      <td>3.6780</td>\n",
              "    </tr>\n",
              "    <tr>\n",
              "      <th>4</th>\n",
              "      <td>31</td>\n",
              "      <td>2018-06-01 00:04:00</td>\n",
              "      <td>3.6530</td>\n",
              "    </tr>\n",
              "  </tbody>\n",
              "</table>\n",
              "</div>"
            ],
            "text/plain": [
              "  IDs           Date_Time  Usage_kW\n",
              "0  31 2018-06-01 00:00:00    3.6729\n",
              "1  31 2018-06-01 00:01:00    3.6762\n",
              "2  31 2018-06-01 00:02:00    3.6814\n",
              "3  31 2018-06-01 00:03:00    3.6780\n",
              "4  31 2018-06-01 00:04:00    3.6530"
            ]
          },
          "metadata": {
            "tags": []
          },
          "execution_count": 46
        }
      ]
    },
    {
      "cell_type": "code",
      "metadata": {
        "id": "GQSEIuRSPmPy",
        "colab": {
          "base_uri": "https://localhost:8080/",
          "height": 449
        },
        "outputId": "07ed0600-58d4-40a0-a02e-892303d6c0c0"
      },
      "source": [
        "boxplot = df.boxplot(column=['Usage_kW'],by=['IDs'],figsize=(14,5), grid=False,)\r\n"
      ],
      "execution_count": null,
      "outputs": [
        {
          "output_type": "stream",
          "text": [
            "/usr/local/lib/python3.6/dist-packages/numpy/core/_asarray.py:83: VisibleDeprecationWarning:\n",
            "\n",
            "Creating an ndarray from ragged nested sequences (which is a list-or-tuple of lists-or-tuples-or ndarrays with different lengths or shapes) is deprecated. If you meant to do this, you must specify 'dtype=object' when creating the ndarray\n",
            "\n"
          ],
          "name": "stderr"
        },
        {
          "output_type": "display_data",
          "data": {
            "image/png": "[encoded data removed]",
            "text/plain": [
              "<Figure size 1008x360 with 1 Axes>"
            ]
          },
          "metadata": {
            "tags": [],
            "needs_background": "light"
          }
        }
      ]
    },
    {
      "cell_type": "code",
      "metadata": {
        "colab": {
          "base_uri": "https://localhost:8080/",
          "height": 320
        },
        "id": "wNDtKE06Fa-z",
        "outputId": "84121c3d-0904-4445-9b26-81ebd87e24d1"
      },
      "source": [
        "boxplot = df.boxplot(column=['Usage_kW'],figsize=(10,5), grid=False,vert=False)"
      ],
      "execution_count": null,
      "outputs": [
        {
          "output_type": "display_data",
          "data": {
            "image/png": "[encoded data removed]",
            "text/plain": [
              "<Figure size 720x360 with 1 Axes>"
            ]
          },
          "metadata": {
            "tags": [],
            "needs_background": "light"
          }
        }
      ]
    },
    {
      "cell_type": "code",
      "metadata": {
        "id": "9qOhAfqkKPKj"
      },
      "source": [
        "# df.plot( x=\"Usage_kW\",y=\"Month\", kind=\"scatter\")"
      ],
      "execution_count": null,
      "outputs": []
    },
    {
      "cell_type": "code",
      "metadata": {
        "id": "iCTaDcYIMJMZ"
      },
      "source": [
        "# from pandas.plotting import autocorrelation_plot\r\n",
        "# plt.figure()\r\n",
        "# autocorrelation_plot(df['Date_Time'])"
      ],
      "execution_count": null,
      "outputs": []
    },
    {
      "cell_type": "code",
      "metadata": {
        "colab": {
          "base_uri": "https://localhost:8080/",
          "height": 204
        },
        "id": "834NzkcBTN4A",
        "outputId": "71908672-ba05-4bd0-ea1f-15d80637096c"
      },
      "source": [
        "season = []\r\n",
        "for i in df['Month']:\r\n",
        "  if i == 1 or i==2 or i==12:\r\n",
        "    season.append('Winter')\r\n",
        "  elif i == 3 or i==4 or i==5:\r\n",
        "    season.append('Spring')\r\n",
        "  elif i == 6 or i== 7 or i== 8:\r\n",
        "    season.append('Summer')\r\n",
        "  elif i == 9 or i== 10 or i==11:\r\n",
        "    season.append('Autumn')\r\n",
        "\r\n",
        "df['Seasons'] = season\r\n",
        "df.head()\r\n",
        "\r\n"
      ],
      "execution_count": null,
      "outputs": [
        {
          "output_type": "execute_result",
          "data": {
            "text/html": [
              "<div>\n",
              "<style scoped>\n",
              "    .dataframe tbody tr th:only-of-type {\n",
              "        vertical-align: middle;\n",
              "    }\n",
              "\n",
              "    .dataframe tbody tr th {\n",
              "        vertical-align: top;\n",
              "    }\n",
              "\n",
              "    .dataframe thead th {\n",
              "        text-align: right;\n",
              "    }\n",
              "</style>\n",
              "<table border=\"1\" class=\"dataframe\">\n",
              "  <thead>\n",
              "    <tr style=\"text-align: right;\">\n",
              "      <th></th>\n",
              "      <th>IDs</th>\n",
              "      <th>Date_Time</th>\n",
              "      <th>Usage_kW</th>\n",
              "      <th>Month</th>\n",
              "      <th>Seasons</th>\n",
              "    </tr>\n",
              "  </thead>\n",
              "  <tbody>\n",
              "    <tr>\n",
              "      <th>0</th>\n",
              "      <td>31</td>\n",
              "      <td>2018-06-01 00:00:00</td>\n",
              "      <td>3.6729</td>\n",
              "      <td>6</td>\n",
              "      <td>Summer</td>\n",
              "    </tr>\n",
              "    <tr>\n",
              "      <th>1</th>\n",
              "      <td>31</td>\n",
              "      <td>2018-06-01 00:01:00</td>\n",
              "      <td>3.6762</td>\n",
              "      <td>6</td>\n",
              "      <td>Summer</td>\n",
              "    </tr>\n",
              "    <tr>\n",
              "      <th>2</th>\n",
              "      <td>31</td>\n",
              "      <td>2018-06-01 00:02:00</td>\n",
              "      <td>3.6814</td>\n",
              "      <td>6</td>\n",
              "      <td>Summer</td>\n",
              "    </tr>\n",
              "    <tr>\n",
              "      <th>3</th>\n",
              "      <td>31</td>\n",
              "      <td>2018-06-01 00:03:00</td>\n",
              "      <td>3.6780</td>\n",
              "      <td>6</td>\n",
              "      <td>Summer</td>\n",
              "    </tr>\n",
              "    <tr>\n",
              "      <th>4</th>\n",
              "      <td>31</td>\n",
              "      <td>2018-06-01 00:04:00</td>\n",
              "      <td>3.6530</td>\n",
              "      <td>6</td>\n",
              "      <td>Summer</td>\n",
              "    </tr>\n",
              "  </tbody>\n",
              "</table>\n",
              "</div>"
            ],
            "text/plain": [
              "  IDs           Date_Time  Usage_kW  Month Seasons\n",
              "0  31 2018-06-01 00:00:00    3.6729      6  Summer\n",
              "1  31 2018-06-01 00:01:00    3.6762      6  Summer\n",
              "2  31 2018-06-01 00:02:00    3.6814      6  Summer\n",
              "3  31 2018-06-01 00:03:00    3.6780      6  Summer\n",
              "4  31 2018-06-01 00:04:00    3.6530      6  Summer"
            ]
          },
          "metadata": {
            "tags": []
          },
          "execution_count": 51
        }
      ]
    },
    {
      "cell_type": "code",
      "metadata": {
        "id": "jIisAVRYlTdQ"
      },
      "source": [
        ""
      ],
      "execution_count": null,
      "outputs": []
    },
    {
      "cell_type": "code",
      "metadata": {
        "colab": {
          "base_uri": "https://localhost:8080/",
          "height": 475
        },
        "id": "CFgDDU5VlbAA",
        "outputId": "750a6c8e-607f-4cb4-8733-4a7e59a3d936"
      },
      "source": [
        "fig, ax = plt.subplots(figsize=(15,7))\r\n",
        "df.groupby(['Seasons']).mean()['Usage_kW'].plot(ax=ax)\r\n",
        "ax.set_ylabel('Average consumption (kW)')\r\n",
        "ax.set_title('Season wise Average consumption')"
      ],
      "execution_count": null,
      "outputs": [
        {
          "output_type": "execute_result",
          "data": {
            "text/plain": [
              "Text(0.5, 1.0, 'Season wise Average consumption')"
            ]
          },
          "metadata": {
            "tags": []
          },
          "execution_count": 52
        },
        {
          "output_type": "display_data",
          "data": {
            "image/png": "[encoded data removed]",
            "text/plain": [
              "<Figure size 1080x504 with 1 Axes>"
            ]
          },
          "metadata": {
            "tags": [],
            "needs_background": "light"
          }
        }
      ]
    },
    {
      "cell_type": "code",
      "metadata": {
        "colab": {
          "base_uri": "https://localhost:8080/",
          "height": 542
        },
        "id": "0Hcazp1qlpIy",
        "outputId": "913a9149-7729-4a74-a2f0-c0f4001bb3ed"
      },
      "source": [
        "ids = set(list((df['IDs'].unique())))\r\n",
        "\r\n",
        "fig = go.Figure()\r\n",
        "for i in ids: \r\n",
        "  data = df[df['IDs']==i]\r\n",
        "  x=data.groupby(['Seasons'])['Usage_kW'].sum()\r\n",
        "  \r\n",
        "  fig.add_trace(go.Scatter(x=x.index, y=x.values,\r\n",
        "                      mode='lines',\r\n",
        "                      name='ID'+str(i)))\r\n",
        "\r\n",
        "fig.update_layout(\r\n",
        "    title=\"Usage vs Seasons for each consumer\",\r\n",
        "    xaxis_title=\"Seasons\",\r\n",
        "    yaxis_title=\"Usage (kW)\",\r\n",
        "    \r\n",
        "    font=dict(\r\n",
        "        family=\"Courier New, monospace\",\r\n",
        "        size=18,\r\n",
        "        color=\"RebeccaPurple\"\r\n",
        "    ))\r\n",
        "fig.show()"
      ],
      "execution_count": null,
      "outputs": [
        {
          "output_type": "display_data",
          "data": {
            "text/html": [
              "<html>\n",
              "<head><meta charset=\"utf-8\" /></head>\n",
              "<body>\n",
              "    <div>\n",
              "            <script src=\"https://cdnjs.cloudflare.com/ajax/libs/mathjax/2.7.5/MathJax.js?config=TeX-AMS-MML_SVG\"></script><script type=\"text/javascript\">if (window.MathJax) {MathJax.Hub.Config({SVG: {font: \"STIX-Web\"}});}</script>\n",
              "                <script type=\"text/javascript\">window.PlotlyConfig = {MathJaxConfig: 'local'};</script>\n",
              "        <script src=\"https://cdn.plot.ly/plotly-latest.min.js\"></script>    \n",
              "            <div id=\"c0c5176f-7b8c-4efb-aa4a-c2b42990a5d1\" class=\"plotly-graph-div\" style=\"height:525px; width:100%;\"></div>\n",
              "            <script type=\"text/javascript\">\n",
              "                \n",
              "                    window.PLOTLYENV=window.PLOTLYENV || {};\n",
              "                    \n",
              "                if (document.getElementById(\"c0c5176f-7b8c-4efb-aa4a-c2b42990a5d1\")) {\n",
              "                    Plotly.newPlot(\n",
              "                        'c0c5176f-7b8c-4efb-aa4a-c2b42990a5d1',\n",
              "                        [{\"mode\": \"lines\", \"name\": \"ID1\", \"type\": \"scatter\", \"x\": [\"Autumn\", \"Spring\", \"Summer\", \"Winter\"], \"y\": [102691.34939999922, 86970.5484999999, 110962.33200000107, 57685.17149999969]}, {\"mode\": \"lines\", \"name\": \"ID2\", \"type\": \"scatter\", \"x\": [\"Autumn\", \"Spring\", \"Summer\", \"Winter\"], \"y\": [55784.43109999824, 51192.421199998666, 86597.09582995031, 22483.272900000105]}, {\"mode\": \"lines\", \"name\": \"ID3\", \"type\": \"scatter\", \"x\": [\"Autumn\", \"Spring\", \"Summer\", \"Winter\"], \"y\": [281305.92439999693, 230434.59979999482, 527212.135700007, 27193.160199999555]}, {\"mode\": \"lines\", \"name\": \"ID4\", \"type\": \"scatter\", \"x\": [\"Autumn\", \"Spring\", \"Summer\", \"Winter\"], \"y\": [195651.59129999083, 182577.81180000398, 332291.4141999981, 158404.3346999988]}, {\"mode\": \"lines\", \"name\": \"ID5\", \"type\": \"scatter\", \"x\": [\"Autumn\", \"Spring\", \"Summer\", \"Winter\"], \"y\": [75361.29240000201, 66992.68649999904, 164049.2121999964, 35259.026700001006]}, {\"mode\": \"lines\", \"name\": \"ID6\", \"type\": \"scatter\", \"x\": [\"Autumn\", \"Spring\", \"Winter\"], \"y\": [10252.266399999906, 115391.29680000067, 92684.55080000169]}, {\"mode\": \"lines\", \"name\": \"ID7\", \"type\": \"scatter\", \"x\": [\"Autumn\", \"Spring\", \"Summer\", \"Winter\"], \"y\": [109006.55119999294, 111217.07310000167, 265511.4125999998, 47761.21009999986]}, {\"mode\": \"lines\", \"name\": \"ID8\", \"type\": \"scatter\", \"x\": [\"Autumn\", \"Spring\", \"Summer\", \"Winter\"], \"y\": [65220.0397999976, 85562.17769999943, 76938.97819999828, 34765.62219999973]}, {\"mode\": \"lines\", \"name\": \"ID9\", \"type\": \"scatter\", \"x\": [\"Autumn\", \"Spring\", \"Summer\", \"Winter\"], \"y\": [50782.3823999995, 69485.09390000028, 111432.8810999963, 21748.342300000164]}, {\"mode\": \"lines\", \"name\": \"ID10\", \"type\": \"scatter\", \"x\": [\"Autumn\", \"Spring\", \"Summer\", \"Winter\"], \"y\": [65326.88589999912, 59668.78140000096, 92374.7044999996, 23675.075099999955]}, {\"mode\": \"lines\", \"name\": \"ID11\", \"type\": \"scatter\", \"x\": [\"Autumn\", \"Spring\", \"Summer\", \"Winter\"], \"y\": [49113.34279999971, 48011.467699999695, 132489.38309999925, 50556.351899998685]}, {\"mode\": \"lines\", \"name\": \"ID12\", \"type\": \"scatter\", \"x\": [\"Autumn\", \"Spring\", \"Summer\", \"Winter\"], \"y\": [73434.29199999436, 74071.43760000078, 105104.40859998816, 40766.32389999741]}, {\"mode\": \"lines\", \"name\": \"ID13\", \"type\": \"scatter\", \"x\": [\"Autumn\", \"Spring\", \"Summer\", \"Winter\"], \"y\": [59333.42299999686, 55275.01770000051, 137912.3386999952, 35937.15720000075]}, {\"mode\": \"lines\", \"name\": \"ID14\", \"type\": \"scatter\", \"x\": [\"Autumn\", \"Spring\", \"Summer\", \"Winter\"], \"y\": [43296.74330000237, 47824.999999999425, 45426.44270000037, 13438.554199999719]}, {\"mode\": \"lines\", \"name\": \"ID15\", \"type\": \"scatter\", \"x\": [\"Autumn\", \"Spring\", \"Summer\", \"Winter\"], \"y\": [179133.92310000234, 174393.34510000225, 371248.0162000082, 88124.7174999993]}, {\"mode\": \"lines\", \"name\": \"ID16\", \"type\": \"scatter\", \"x\": [\"Autumn\", \"Spring\", \"Summer\", \"Winter\"], \"y\": [256067.40899999652, 272914.30009999307, 380114.89809998684, 342966.1322852681]}, {\"mode\": \"lines\", \"name\": \"ID17\", \"type\": \"scatter\", \"x\": [\"Autumn\", \"Spring\", \"Summer\", \"Winter\"], \"y\": [38746.097300001034, 34393.46184359045, 90504.1701000054, 17119.219399999572]}, {\"mode\": \"lines\", \"name\": \"ID18\", \"type\": \"scatter\", \"x\": [\"Autumn\", \"Spring\", \"Summer\", \"Winter\"], \"y\": [69458.59709999681, 69452.31210000014, 149156.36100000056, 44221.28036124762]}, {\"mode\": \"lines\", \"name\": \"ID19\", \"type\": \"scatter\", \"x\": [\"Autumn\", \"Spring\", \"Summer\", \"Winter\"], \"y\": [109645.8043999922, 159053.2646999981, 262624.2301000061, 119039.09310000039]}, {\"mode\": \"lines\", \"name\": \"ID20\", \"type\": \"scatter\", \"x\": [\"Autumn\", \"Spring\", \"Summer\", \"Winter\"], \"y\": [78279.54360000347, 70357.29319999898, 170803.14720000158, 40645.88729999936]}, {\"mode\": \"lines\", \"name\": \"ID21\", \"type\": \"scatter\", \"x\": [\"Autumn\", \"Spring\", \"Summer\", \"Winter\"], \"y\": [95365.4584000032, 82037.42520249021, 170601.19730000146, 42389.076499997005]}, {\"mode\": \"lines\", \"name\": \"ID22\", \"type\": \"scatter\", \"x\": [\"Autumn\", \"Spring\", \"Summer\", \"Winter\"], \"y\": [58126.91260000093, 64614.12920000039, 108087.27179999974, 35434.62980000064]}, {\"mode\": \"lines\", \"name\": \"ID23\", \"type\": \"scatter\", \"x\": [\"Autumn\", \"Spring\", \"Summer\", \"Winter\"], \"y\": [115257.9369000035, 137373.10780000064, 193455.00170000072, 65510.51059999883]}, {\"mode\": \"lines\", \"name\": \"ID24\", \"type\": \"scatter\", \"x\": [\"Autumn\", \"Spring\", \"Summer\", \"Winter\"], \"y\": [87184.8059999981, 60183.529000000206, 1.5818999999998422, 11845.491299999065]}, {\"mode\": \"lines\", \"name\": \"ID25\", \"type\": \"scatter\", \"x\": [\"Autumn\", \"Spring\", \"Summer\", \"Winter\"], \"y\": [66298.85390000108, 67397.09800000038, 146559.28269999698, 31183.04149999951]}, {\"mode\": \"lines\", \"name\": \"ID26\", \"type\": \"scatter\", \"x\": [\"Autumn\", \"Spring\", \"Summer\", \"Winter\"], \"y\": [130465.87509999928, 107492.93739999957, 217088.94320000318, 74564.42059999921]}, {\"mode\": \"lines\", \"name\": \"ID27\", \"type\": \"scatter\", \"x\": [\"Autumn\", \"Spring\", \"Summer\", \"Winter\"], \"y\": [55973.11899999974, 28744.188999999962, 133286.92779999677, 20766.292600000023]}, {\"mode\": \"lines\", \"name\": \"ID28\", \"type\": \"scatter\", \"x\": [\"Autumn\", \"Spring\", \"Summer\", \"Winter\"], \"y\": [136068.62910000337, 110941.57270000031, 346418.95900000504, 51191.81709999932]}, {\"mode\": \"lines\", \"name\": \"ID29\", \"type\": \"scatter\", \"x\": [\"Autumn\", \"Spring\", \"Summer\", \"Winter\"], \"y\": [67063.86730000052, 97828.69019999789, 189809.09590000613, 154965.76339999796]}, {\"mode\": \"lines\", \"name\": \"ID30\", \"type\": \"scatter\", \"x\": [\"Autumn\", \"Spring\", \"Summer\", \"Winter\"], \"y\": [163437.25519999853, 349594.5022999792, 351165.87159999064, 81338.53409999867]}, {\"mode\": \"lines\", \"name\": \"ID31\", \"type\": \"scatter\", \"x\": [\"Autumn\", \"Spring\", \"Summer\", \"Winter\"], \"y\": [122892.42010000002, 162633.1937000004, 215774.8535, 148929.52150000146]}, {\"mode\": \"lines\", \"name\": \"ID32\", \"type\": \"scatter\", \"x\": [\"Autumn\", \"Spring\", \"Summer\", \"Winter\"], \"y\": [82514.04729999858, 84353.38620000223, 173014.8362000006, 42579.72150000059]}, {\"mode\": \"lines\", \"name\": \"ID33\", \"type\": \"scatter\", \"x\": [\"Autumn\", \"Spring\", \"Summer\", \"Winter\"], \"y\": [96689.0558999992, 66726.3206000001, 189941.04550000274, 31754.64099999963]}, {\"mode\": \"lines\", \"name\": \"ID34\", \"type\": \"scatter\", \"x\": [\"Autumn\", \"Spring\", \"Summer\", \"Winter\"], \"y\": [159689.97399998704, 162029.92562092113, 368073.8631999953, 181336.64399999566]}, {\"mode\": \"lines\", \"name\": \"ID35\", \"type\": \"scatter\", \"x\": [\"Autumn\", \"Spring\", \"Summer\", \"Winter\"], \"y\": [95360.68775005086, 99587.70261660441, 169928.952216731, 48483.0030501478]}, {\"mode\": \"lines\", \"name\": \"ID36\", \"type\": \"scatter\", \"x\": [\"Autumn\", \"Spring\", \"Summer\", \"Winter\"], \"y\": [80398.77819999837, 78790.58350000087, 153239.56829999582, 36123.18969999895]}, {\"mode\": \"lines\", \"name\": \"ID37\", \"type\": \"scatter\", \"x\": [\"Autumn\", \"Spring\", \"Summer\", \"Winter\"], \"y\": [79265.4378999999, 79582.0155999995, 179106.3446000084, 36339.46320000106]}, {\"mode\": \"lines\", \"name\": \"ID38\", \"type\": \"scatter\", \"x\": [\"Autumn\", \"Summer\", \"Winter\"], \"y\": [84693.62099999859, 205453.03980000026, 57091.71849999982]}, {\"mode\": \"lines\", \"name\": \"ID39\", \"type\": \"scatter\", \"x\": [\"Autumn\", \"Spring\", \"Summer\", \"Winter\"], \"y\": [96387.02029999226, 80710.6184999986, 130632.40589999146, 44607.09659999963]}, {\"mode\": \"lines\", \"name\": \"ID40\", \"type\": \"scatter\", \"x\": [\"Autumn\", \"Spring\", \"Summer\", \"Winter\"], \"y\": [179018.5272999991, 152285.7975999991, 355848.48910000303, 68067.31609999912]}, {\"mode\": \"lines\", \"name\": \"ID41\", \"type\": \"scatter\", \"x\": [\"Autumn\", \"Spring\", \"Summer\", \"Winter\"], \"y\": [73774.44730000348, 80235.99849999866, 111032.64300000311, 34251.874300000556]}, {\"mode\": \"lines\", \"name\": \"ID42\", \"type\": \"scatter\", \"x\": [\"Autumn\", \"Spring\", \"Summer\", \"Winter\"], \"y\": [53212.242700000024, 66495.91929999802, 63261.486399999936, 36141.67560000036]}],\n",
              "                        {\"font\": {\"color\": \"RebeccaPurple\", \"family\": \"Courier New, monospace\", \"size\": 18}, \"template\": {\"data\": {\"bar\": [{\"error_x\": {\"color\": \"#2a3f5f\"}, \"error_y\": {\"color\": \"#2a3f5f\"}, \"marker\": {\"line\": {\"color\": \"#E5ECF6\", \"width\": 0.5}}, \"type\": \"bar\"}], \"barpolar\": [{\"marker\": {\"line\": {\"color\": \"#E5ECF6\", \"width\": 0.5}}, \"type\": \"barpolar\"}], \"carpet\": [{\"aaxis\": {\"endlinecolor\": \"#2a3f5f\", \"gridcolor\": \"white\", \"linecolor\": \"white\", \"minorgridcolor\": \"white\", \"startlinecolor\": \"#2a3f5f\"}, \"baxis\": {\"endlinecolor\": \"#2a3f5f\", \"gridcolor\": \"white\", \"linecolor\": \"white\", \"minorgridcolor\": \"white\", \"startlinecolor\": \"#2a3f5f\"}, \"type\": \"carpet\"}], \"choropleth\": [{\"colorbar\": {\"outlinewidth\": 0, \"ticks\": \"\"}, \"type\": \"choropleth\"}], \"contour\": [{\"colorbar\": {\"outlinewidth\": 0, \"ticks\": \"\"}, \"colorscale\": [[0.0, \"#0d0887\"], [0.1111111111111111, \"#46039f\"], [0.2222222222222222, \"#7201a8\"], [0.3333333333333333, \"#9c179e\"], [0.4444444444444444, \"#bd3786\"], [0.5555555555555556, \"#d8576b\"], [0.6666666666666666, \"#ed7953\"], [0.7777777777777778, \"#fb9f3a\"], [0.8888888888888888, \"#fdca26\"], [1.0, \"#f0f921\"]], \"type\": \"contour\"}], \"contourcarpet\": [{\"colorbar\": {\"outlinewidth\": 0, \"ticks\": \"\"}, \"type\": \"contourcarpet\"}], \"heatmap\": [{\"colorbar\": {\"outlinewidth\": 0, \"ticks\": \"\"}, \"colorscale\": [[0.0, \"#0d0887\"], [0.1111111111111111, \"#46039f\"], [0.2222222222222222, \"#7201a8\"], [0.3333333333333333, \"#9c179e\"], [0.4444444444444444, \"#bd3786\"], [0.5555555555555556, \"#d8576b\"], [0.6666666666666666, \"#ed7953\"], [0.7777777777777778, \"#fb9f3a\"], [0.8888888888888888, \"#fdca26\"], [1.0, \"#f0f921\"]], \"type\": \"heatmap\"}], \"heatmapgl\": [{\"colorbar\": {\"outlinewidth\": 0, \"ticks\": \"\"}, \"colorscale\": [[0.0, \"#0d0887\"], [0.1111111111111111, \"#46039f\"], [0.2222222222222222, \"#7201a8\"], [0.3333333333333333, \"#9c179e\"], [0.4444444444444444, \"#bd3786\"], [0.5555555555555556, \"#d8576b\"], [0.6666666666666666, \"#ed7953\"], [0.7777777777777778, \"#fb9f3a\"], [0.8888888888888888, \"#fdca26\"], [1.0, \"#f0f921\"]], \"type\": \"heatmapgl\"}], \"histogram\": [{\"marker\": {\"colorbar\": {\"outlinewidth\": 0, \"ticks\": \"\"}}, \"type\": \"histogram\"}], \"histogram2d\": [{\"colorbar\": {\"outlinewidth\": 0, \"ticks\": \"\"}, \"colorscale\": [[0.0, \"#0d0887\"], [0.1111111111111111, \"#46039f\"], [0.2222222222222222, \"#7201a8\"], [0.3333333333333333, \"#9c179e\"], [0.4444444444444444, \"#bd3786\"], [0.5555555555555556, \"#d8576b\"], [0.6666666666666666, \"#ed7953\"], [0.7777777777777778, \"#fb9f3a\"], [0.8888888888888888, \"#fdca26\"], [1.0, \"#f0f921\"]], \"type\": \"histogram2d\"}], \"histogram2dcontour\": [{\"colorbar\": {\"outlinewidth\": 0, \"ticks\": \"\"}, \"colorscale\": [[0.0, \"#0d0887\"], [0.1111111111111111, \"#46039f\"], [0.2222222222222222, \"#7201a8\"], [0.3333333333333333, \"#9c179e\"], [0.4444444444444444, \"#bd3786\"], [0.5555555555555556, \"#d8576b\"], [0.6666666666666666, \"#ed7953\"], [0.7777777777777778, \"#fb9f3a\"], [0.8888888888888888, \"#fdca26\"], [1.0, \"#f0f921\"]], \"type\": \"histogram2dcontour\"}], \"mesh3d\": [{\"colorbar\": {\"outlinewidth\": 0, \"ticks\": \"\"}, \"type\": \"mesh3d\"}], \"parcoords\": [{\"line\": {\"colorbar\": {\"outlinewidth\": 0, \"ticks\": \"\"}}, \"type\": \"parcoords\"}], \"pie\": [{\"automargin\": true, \"type\": \"pie\"}], \"scatter\": [{\"marker\": {\"colorbar\": {\"outlinewidth\": 0, \"ticks\": \"\"}}, \"type\": \"scatter\"}], \"scatter3d\": [{\"line\": {\"colorbar\": {\"outlinewidth\": 0, \"ticks\": \"\"}}, \"marker\": {\"colorbar\": {\"outlinewidth\": 0, \"ticks\": \"\"}}, \"type\": \"scatter3d\"}], \"scattercarpet\": [{\"marker\": {\"colorbar\": {\"outlinewidth\": 0, \"ticks\": \"\"}}, \"type\": \"scattercarpet\"}], \"scattergeo\": [{\"marker\": {\"colorbar\": {\"outlinewidth\": 0, \"ticks\": \"\"}}, \"type\": \"scattergeo\"}], \"scattergl\": [{\"marker\": {\"colorbar\": {\"outlinewidth\": 0, \"ticks\": \"\"}}, \"type\": \"scattergl\"}], \"scattermapbox\": [{\"marker\": {\"colorbar\": {\"outlinewidth\": 0, \"ticks\": \"\"}}, \"type\": \"scattermapbox\"}], \"scatterpolar\": [{\"marker\": {\"colorbar\": {\"outlinewidth\": 0, \"ticks\": \"\"}}, \"type\": \"scatterpolar\"}], \"scatterpolargl\": [{\"marker\": {\"colorbar\": {\"outlinewidth\": 0, \"ticks\": \"\"}}, \"type\": \"scatterpolargl\"}], \"scatterternary\": [{\"marker\": {\"colorbar\": {\"outlinewidth\": 0, \"ticks\": \"\"}}, \"type\": \"scatterternary\"}], \"surface\": [{\"colorbar\": {\"outlinewidth\": 0, \"ticks\": \"\"}, \"colorscale\": [[0.0, \"#0d0887\"], [0.1111111111111111, \"#46039f\"], [0.2222222222222222, \"#7201a8\"], [0.3333333333333333, \"#9c179e\"], [0.4444444444444444, \"#bd3786\"], [0.5555555555555556, \"#d8576b\"], [0.6666666666666666, \"#ed7953\"], [0.7777777777777778, \"#fb9f3a\"], [0.8888888888888888, \"#fdca26\"], [1.0, \"#f0f921\"]], \"type\": \"surface\"}], \"table\": [{\"cells\": {\"fill\": {\"color\": \"#EBF0F8\"}, \"line\": {\"color\": \"white\"}}, \"header\": {\"fill\": {\"color\": \"#C8D4E3\"}, \"line\": {\"color\": \"white\"}}, \"type\": \"table\"}]}, \"layout\": {\"annotationdefaults\": {\"arrowcolor\": \"#2a3f5f\", \"arrowhead\": 0, \"arrowwidth\": 1}, \"coloraxis\": {\"colorbar\": {\"outlinewidth\": 0, \"ticks\": \"\"}}, \"colorscale\": {\"diverging\": [[0, \"#8e0152\"], [0.1, \"#c51b7d\"], [0.2, \"#de77ae\"], [0.3, \"#f1b6da\"], [0.4, \"#fde0ef\"], [0.5, \"#f7f7f7\"], [0.6, \"#e6f5d0\"], [0.7, \"#b8e186\"], [0.8, \"#7fbc41\"], [0.9, \"#4d9221\"], [1, \"#276419\"]], \"sequential\": [[0.0, \"#0d0887\"], [0.1111111111111111, \"#46039f\"], [0.2222222222222222, \"#7201a8\"], [0.3333333333333333, \"#9c179e\"], [0.4444444444444444, \"#bd3786\"], [0.5555555555555556, \"#d8576b\"], [0.6666666666666666, \"#ed7953\"], [0.7777777777777778, \"#fb9f3a\"], [0.8888888888888888, \"#fdca26\"], [1.0, \"#f0f921\"]], \"sequentialminus\": [[0.0, \"#0d0887\"], [0.1111111111111111, \"#46039f\"], [0.2222222222222222, \"#7201a8\"], [0.3333333333333333, \"#9c179e\"], [0.4444444444444444, \"#bd3786\"], [0.5555555555555556, \"#d8576b\"], [0.6666666666666666, \"#ed7953\"], [0.7777777777777778, \"#fb9f3a\"], [0.8888888888888888, \"#fdca26\"], [1.0, \"#f0f921\"]]}, \"colorway\": [\"#636efa\", \"#EF553B\", \"#00cc96\", \"#ab63fa\", \"#FFA15A\", \"#19d3f3\", \"#FF6692\", \"#B6E880\", \"#FF97FF\", \"#FECB52\"], \"font\": {\"color\": \"#2a3f5f\"}, \"geo\": {\"bgcolor\": \"white\", \"lakecolor\": \"white\", \"landcolor\": \"#E5ECF6\", \"showlakes\": true, \"showland\": true, \"subunitcolor\": \"white\"}, \"hoverlabel\": {\"align\": \"left\"}, \"hovermode\": \"closest\", \"mapbox\": {\"style\": \"light\"}, \"paper_bgcolor\": \"white\", \"plot_bgcolor\": \"#E5ECF6\", \"polar\": {\"angularaxis\": {\"gridcolor\": \"white\", \"linecolor\": \"white\", \"ticks\": \"\"}, \"bgcolor\": \"#E5ECF6\", \"radialaxis\": {\"gridcolor\": \"white\", \"linecolor\": \"white\", \"ticks\": \"\"}}, \"scene\": {\"xaxis\": {\"backgroundcolor\": \"#E5ECF6\", \"gridcolor\": \"white\", \"gridwidth\": 2, \"linecolor\": \"white\", \"showbackground\": true, \"ticks\": \"\", \"zerolinecolor\": \"white\"}, \"yaxis\": {\"backgroundcolor\": \"#E5ECF6\", \"gridcolor\": \"white\", \"gridwidth\": 2, \"linecolor\": \"white\", \"showbackground\": true, \"ticks\": \"\", \"zerolinecolor\": \"white\"}, \"zaxis\": {\"backgroundcolor\": \"#E5ECF6\", \"gridcolor\": \"white\", \"gridwidth\": 2, \"linecolor\": \"white\", \"showbackground\": true, \"ticks\": \"\", \"zerolinecolor\": \"white\"}}, \"shapedefaults\": {\"line\": {\"color\": \"#2a3f5f\"}}, \"ternary\": {\"aaxis\": {\"gridcolor\": \"white\", \"linecolor\": \"white\", \"ticks\": \"\"}, \"baxis\": {\"gridcolor\": \"white\", \"linecolor\": \"white\", \"ticks\": \"\"}, \"bgcolor\": \"#E5ECF6\", \"caxis\": {\"gridcolor\": \"white\", \"linecolor\": \"white\", \"ticks\": \"\"}}, \"title\": {\"x\": 0.05}, \"xaxis\": {\"automargin\": true, \"gridcolor\": \"white\", \"linecolor\": \"white\", \"ticks\": \"\", \"title\": {\"standoff\": 15}, \"zerolinecolor\": \"white\", \"zerolinewidth\": 2}, \"yaxis\": {\"automargin\": true, \"gridcolor\": \"white\", \"linecolor\": \"white\", \"ticks\": \"\", \"title\": {\"standoff\": 15}, \"zerolinecolor\": \"white\", \"zerolinewidth\": 2}}}, \"title\": {\"text\": \"Usage vs Seasons for each consumer\"}, \"xaxis\": {\"title\": {\"text\": \"Seasons\"}}, \"yaxis\": {\"title\": {\"text\": \"Usage (kW)\"}}},\n",
              "                        {\"responsive\": true}\n",
              "                    ).then(function(){\n",
              "                            \n",
              "var gd = document.getElementById('c0c5176f-7b8c-4efb-aa4a-c2b42990a5d1');\n",
              "var x = new MutationObserver(function (mutations, observer) {{\n",
              "        var display = window.getComputedStyle(gd).display;\n",
              "        if (!display || display === 'none') {{\n",
              "            console.log([gd, 'removed!']);\n",
              "            Plotly.purge(gd);\n",
              "            observer.disconnect();\n",
              "        }}\n",
              "}});\n",
              "\n",
              "// Listen for the removal of the full notebook cells\n",
              "var notebookContainer = gd.closest('#notebook-container');\n",
              "if (notebookContainer) {{\n",
              "    x.observe(notebookContainer, {childList: true});\n",
              "}}\n",
              "\n",
              "// Listen for the clearing of the current output cell\n",
              "var outputEl = gd.closest('.output');\n",
              "if (outputEl) {{\n",
              "    x.observe(outputEl, {childList: true});\n",
              "}}\n",
              "\n",
              "                        })\n",
              "                };\n",
              "                \n",
              "            </script>\n",
              "        </div>\n",
              "</body>\n",
              "</html>"
            ]
          },
          "metadata": {
            "tags": []
          }
        }
      ]
    },
    {
      "cell_type": "code",
      "metadata": {
        "id": "BJLKYmtNVWvR"
      },
      "source": [
        ""
      ],
      "execution_count": null,
      "outputs": []
    },
    {
      "cell_type": "code",
      "metadata": {
        "id": "PJpxXk9366vj"
      },
      "source": [
        "# (Done) Fill null values with 0 since all the null values were in Usage_kw\r\n",
        "# number of houses - 42\r\n",
        "# granuality -\r\n",
        "# How much  Data for each house - on average (525600 data)\r\n",
        "# Plot average of each house to see the trend ((months vs averaga of all houses in that month) or (IDs vs the average of that house))\r\n",
        "# plot data of each house indivdually (line graphs (months vs the usage))\r\n",
        "# See precon paper to check what else can be mentioned.\r\n",
        "# box plot for the usage\r\n",
        "# Group by months and make scatter plots  to see usage of electricity in specific months \r\n",
        "# scatter points wrt season as well. "
      ],
      "execution_count": null,
      "outputs": []
    }
  ]
}